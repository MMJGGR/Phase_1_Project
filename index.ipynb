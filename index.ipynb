{
 "cells": [
  {
   "cell_type": "markdown",
   "metadata": {},
   "source": [
    "# MICROSOFT ENTERS THE MOVIE BUSINESS"
   ]
  },
  {
   "cell_type": "markdown",
   "metadata": {},
   "source": [
    "### 1. Project Setup and Initial Data Exploration"
   ]
  },
  {
   "cell_type": "code",
   "execution_count": 98,
   "metadata": {},
   "outputs": [],
   "source": [
    "import pandas as pd\n",
    "import numpy as np\n",
    "import matplotlib.pyplot as plt\n",
    "import sqlite3\n",
    "%matplotlib inline"
   ]
  },
  {
   "cell_type": "markdown",
   "metadata": {},
   "source": [
    "First, we need to look at the data we are working with before proceeding.\n",
    "\n",
    "We will start with tmdb.movies.csv"
   ]
  },
  {
   "cell_type": "code",
   "execution_count": 99,
   "metadata": {},
   "outputs": [
    {
     "data": {
      "text/html": [
       "<div>\n",
       "<style scoped>\n",
       "    .dataframe tbody tr th:only-of-type {\n",
       "        vertical-align: middle;\n",
       "    }\n",
       "\n",
       "    .dataframe tbody tr th {\n",
       "        vertical-align: top;\n",
       "    }\n",
       "\n",
       "    .dataframe thead th {\n",
       "        text-align: right;\n",
       "    }\n",
       "</style>\n",
       "<table border=\"1\" class=\"dataframe\">\n",
       "  <thead>\n",
       "    <tr style=\"text-align: right;\">\n",
       "      <th></th>\n",
       "      <th>Unnamed: 0</th>\n",
       "      <th>genre_ids</th>\n",
       "      <th>id</th>\n",
       "      <th>original_language</th>\n",
       "      <th>original_title</th>\n",
       "      <th>popularity</th>\n",
       "      <th>release_date</th>\n",
       "      <th>title</th>\n",
       "      <th>vote_average</th>\n",
       "      <th>vote_count</th>\n",
       "    </tr>\n",
       "  </thead>\n",
       "  <tbody>\n",
       "    <tr>\n",
       "      <th>0</th>\n",
       "      <td>0</td>\n",
       "      <td>[12, 14, 10751]</td>\n",
       "      <td>12444</td>\n",
       "      <td>en</td>\n",
       "      <td>Harry Potter and the Deathly Hallows: Part 1</td>\n",
       "      <td>33.533</td>\n",
       "      <td>2010-11-19</td>\n",
       "      <td>Harry Potter and the Deathly Hallows: Part 1</td>\n",
       "      <td>7.7</td>\n",
       "      <td>10788</td>\n",
       "    </tr>\n",
       "    <tr>\n",
       "      <th>1</th>\n",
       "      <td>1</td>\n",
       "      <td>[14, 12, 16, 10751]</td>\n",
       "      <td>10191</td>\n",
       "      <td>en</td>\n",
       "      <td>How to Train Your Dragon</td>\n",
       "      <td>28.734</td>\n",
       "      <td>2010-03-26</td>\n",
       "      <td>How to Train Your Dragon</td>\n",
       "      <td>7.7</td>\n",
       "      <td>7610</td>\n",
       "    </tr>\n",
       "    <tr>\n",
       "      <th>2</th>\n",
       "      <td>2</td>\n",
       "      <td>[12, 28, 878]</td>\n",
       "      <td>10138</td>\n",
       "      <td>en</td>\n",
       "      <td>Iron Man 2</td>\n",
       "      <td>28.515</td>\n",
       "      <td>2010-05-07</td>\n",
       "      <td>Iron Man 2</td>\n",
       "      <td>6.8</td>\n",
       "      <td>12368</td>\n",
       "    </tr>\n",
       "    <tr>\n",
       "      <th>3</th>\n",
       "      <td>3</td>\n",
       "      <td>[16, 35, 10751]</td>\n",
       "      <td>862</td>\n",
       "      <td>en</td>\n",
       "      <td>Toy Story</td>\n",
       "      <td>28.005</td>\n",
       "      <td>1995-11-22</td>\n",
       "      <td>Toy Story</td>\n",
       "      <td>7.9</td>\n",
       "      <td>10174</td>\n",
       "    </tr>\n",
       "    <tr>\n",
       "      <th>4</th>\n",
       "      <td>4</td>\n",
       "      <td>[28, 878, 12]</td>\n",
       "      <td>27205</td>\n",
       "      <td>en</td>\n",
       "      <td>Inception</td>\n",
       "      <td>27.920</td>\n",
       "      <td>2010-07-16</td>\n",
       "      <td>Inception</td>\n",
       "      <td>8.3</td>\n",
       "      <td>22186</td>\n",
       "    </tr>\n",
       "  </tbody>\n",
       "</table>\n",
       "</div>"
      ],
      "text/plain": [
       "   Unnamed: 0            genre_ids     id original_language  \\\n",
       "0           0      [12, 14, 10751]  12444                en   \n",
       "1           1  [14, 12, 16, 10751]  10191                en   \n",
       "2           2        [12, 28, 878]  10138                en   \n",
       "3           3      [16, 35, 10751]    862                en   \n",
       "4           4        [28, 878, 12]  27205                en   \n",
       "\n",
       "                                 original_title  popularity release_date  \\\n",
       "0  Harry Potter and the Deathly Hallows: Part 1      33.533   2010-11-19   \n",
       "1                      How to Train Your Dragon      28.734   2010-03-26   \n",
       "2                                    Iron Man 2      28.515   2010-05-07   \n",
       "3                                     Toy Story      28.005   1995-11-22   \n",
       "4                                     Inception      27.920   2010-07-16   \n",
       "\n",
       "                                          title  vote_average  vote_count  \n",
       "0  Harry Potter and the Deathly Hallows: Part 1           7.7       10788  \n",
       "1                      How to Train Your Dragon           7.7        7610  \n",
       "2                                    Iron Man 2           6.8       12368  \n",
       "3                                     Toy Story           7.9       10174  \n",
       "4                                     Inception           8.3       22186  "
      ]
     },
     "execution_count": 99,
     "metadata": {},
     "output_type": "execute_result"
    }
   ],
   "source": [
    "tmdb_file_location = '../tmdb.movies.csv'\n",
    "\n",
    "tmdb_movies_df = pd.read_csv(tmdb_file_location)\n",
    "tmdb_movies_df.head()"
   ]
  },
  {
   "cell_type": "code",
   "execution_count": 100,
   "metadata": {},
   "outputs": [
    {
     "data": {
      "text/plain": [
       "Index(['Unnamed: 0', 'genre_ids', 'id', 'original_language', 'original_title',\n",
       "       'popularity', 'release_date', 'title', 'vote_average', 'vote_count'],\n",
       "      dtype='object')"
      ]
     },
     "execution_count": 100,
     "metadata": {},
     "output_type": "execute_result"
    }
   ],
   "source": [
    "tmdb_movies_df.columns"
   ]
  },
  {
   "cell_type": "code",
   "execution_count": 101,
   "metadata": {},
   "outputs": [
    {
     "data": {
      "text/plain": [
       "(26517, 10)"
      ]
     },
     "execution_count": 101,
     "metadata": {},
     "output_type": "execute_result"
    }
   ],
   "source": [
    "tmdb_movies_df.shape"
   ]
  },
  {
   "cell_type": "markdown",
   "metadata": {},
   "source": [
    "tmdb.movies.csv has the following 10 columns 'Unnamed: 0', 'genre_ids', 'id', 'original_language', 'original_title', 'popularity', 'release_date', 'title', 'vote_average', 'vote_count''\n",
    "\n",
    "It has 10 columns and 26,517 rows\n",
    "\n",
    "Looks like this table summarizes the movies popularity with the fans."
   ]
  },
  {
   "cell_type": "markdown",
   "metadata": {},
   "source": [
    "Next, lets see what data is in tn.movie_budgets."
   ]
  },
  {
   "cell_type": "code",
   "execution_count": 102,
   "metadata": {},
   "outputs": [
    {
     "data": {
      "text/html": [
       "<div>\n",
       "<style scoped>\n",
       "    .dataframe tbody tr th:only-of-type {\n",
       "        vertical-align: middle;\n",
       "    }\n",
       "\n",
       "    .dataframe tbody tr th {\n",
       "        vertical-align: top;\n",
       "    }\n",
       "\n",
       "    .dataframe thead th {\n",
       "        text-align: right;\n",
       "    }\n",
       "</style>\n",
       "<table border=\"1\" class=\"dataframe\">\n",
       "  <thead>\n",
       "    <tr style=\"text-align: right;\">\n",
       "      <th></th>\n",
       "      <th>id</th>\n",
       "      <th>release_date</th>\n",
       "      <th>movie</th>\n",
       "      <th>production_budget</th>\n",
       "      <th>domestic_gross</th>\n",
       "      <th>worldwide_gross</th>\n",
       "    </tr>\n",
       "  </thead>\n",
       "  <tbody>\n",
       "    <tr>\n",
       "      <th>0</th>\n",
       "      <td>1</td>\n",
       "      <td>Dec 18, 2009</td>\n",
       "      <td>Avatar</td>\n",
       "      <td>$425,000,000</td>\n",
       "      <td>$760,507,625</td>\n",
       "      <td>$2,776,345,279</td>\n",
       "    </tr>\n",
       "    <tr>\n",
       "      <th>1</th>\n",
       "      <td>2</td>\n",
       "      <td>May 20, 2011</td>\n",
       "      <td>Pirates of the Caribbean: On Stranger Tides</td>\n",
       "      <td>$410,600,000</td>\n",
       "      <td>$241,063,875</td>\n",
       "      <td>$1,045,663,875</td>\n",
       "    </tr>\n",
       "    <tr>\n",
       "      <th>2</th>\n",
       "      <td>3</td>\n",
       "      <td>Jun 7, 2019</td>\n",
       "      <td>Dark Phoenix</td>\n",
       "      <td>$350,000,000</td>\n",
       "      <td>$42,762,350</td>\n",
       "      <td>$149,762,350</td>\n",
       "    </tr>\n",
       "    <tr>\n",
       "      <th>3</th>\n",
       "      <td>4</td>\n",
       "      <td>May 1, 2015</td>\n",
       "      <td>Avengers: Age of Ultron</td>\n",
       "      <td>$330,600,000</td>\n",
       "      <td>$459,005,868</td>\n",
       "      <td>$1,403,013,963</td>\n",
       "    </tr>\n",
       "    <tr>\n",
       "      <th>4</th>\n",
       "      <td>5</td>\n",
       "      <td>Dec 15, 2017</td>\n",
       "      <td>Star Wars Ep. VIII: The Last Jedi</td>\n",
       "      <td>$317,000,000</td>\n",
       "      <td>$620,181,382</td>\n",
       "      <td>$1,316,721,747</td>\n",
       "    </tr>\n",
       "  </tbody>\n",
       "</table>\n",
       "</div>"
      ],
      "text/plain": [
       "   id  release_date                                        movie  \\\n",
       "0   1  Dec 18, 2009                                       Avatar   \n",
       "1   2  May 20, 2011  Pirates of the Caribbean: On Stranger Tides   \n",
       "2   3   Jun 7, 2019                                 Dark Phoenix   \n",
       "3   4   May 1, 2015                      Avengers: Age of Ultron   \n",
       "4   5  Dec 15, 2017            Star Wars Ep. VIII: The Last Jedi   \n",
       "\n",
       "  production_budget domestic_gross worldwide_gross  \n",
       "0      $425,000,000   $760,507,625  $2,776,345,279  \n",
       "1      $410,600,000   $241,063,875  $1,045,663,875  \n",
       "2      $350,000,000    $42,762,350    $149,762,350  \n",
       "3      $330,600,000   $459,005,868  $1,403,013,963  \n",
       "4      $317,000,000   $620,181,382  $1,316,721,747  "
      ]
     },
     "execution_count": 102,
     "metadata": {},
     "output_type": "execute_result"
    }
   ],
   "source": [
    "tn_movie_budget_path = '../tn.movie_budgets.csv'\n",
    "\n",
    "movie_budgets_df = pd.read_csv(tn_movie_budget_path)\n",
    "\n",
    "movie_budgets_df.head()"
   ]
  },
  {
   "cell_type": "code",
   "execution_count": 103,
   "metadata": {},
   "outputs": [
    {
     "data": {
      "text/plain": [
       "(5782, 6)"
      ]
     },
     "execution_count": 103,
     "metadata": {},
     "output_type": "execute_result"
    }
   ],
   "source": [
    "movie_budgets_df.shape"
   ]
  },
  {
   "cell_type": "code",
   "execution_count": 104,
   "metadata": {},
   "outputs": [
    {
     "data": {
      "text/plain": [
       "Index(['id', 'release_date', 'movie', 'production_budget', 'domestic_gross',\n",
       "       'worldwide_gross'],\n",
       "      dtype='object')"
      ]
     },
     "execution_count": 104,
     "metadata": {},
     "output_type": "execute_result"
    }
   ],
   "source": [
    "movie_budgets_df.columns"
   ]
  },
  {
   "cell_type": "markdown",
   "metadata": {},
   "source": [
    "tn.movie_budgets.csv has the following 6 columns 'id', 'release_date', 'movie', 'production_budget', 'domestic_gross', 'worldwide_gross'.\n",
    "\n",
    "It has 5782 rows and 6 columns\n",
    "\n",
    "Looks like this table sumarizes how successful movies are from a monetary perspective."
   ]
  },
  {
   "cell_type": "markdown",
   "metadata": {},
   "source": [
    "Next we will connect to the database and look at what is in it\n",
    "\n",
    "From the ERD, the table 'movie_basics' looks like a good place to start"
   ]
  },
  {
   "cell_type": "code",
   "execution_count": 105,
   "metadata": {},
   "outputs": [],
   "source": [
    "\n",
    "\n",
    "conn = sqlite3.connect('../im.db')\n",
    "\n",
    "cur = conn.cursor()\n",
    "\n"
   ]
  },
  {
   "cell_type": "code",
   "execution_count": 106,
   "metadata": {},
   "outputs": [
    {
     "name": "stdout",
     "output_type": "stream",
     "text": [
      "[('movie_basics', 'table', 'CREATE TABLE \"movie_basics\" (\\n\"movie_id\" TEXT,\\n  \"primary_title\" TEXT,\\n  \"original_title\" TEXT,\\n  \"start_year\" INTEGER,\\n  \"runtime_minutes\" REAL,\\n  \"genres\" TEXT\\n)'), ('directors', 'table', 'CREATE TABLE \"directors\" (\\n\"movie_id\" TEXT,\\n  \"person_id\" TEXT\\n)'), ('known_for', 'table', 'CREATE TABLE \"known_for\" (\\n\"person_id\" TEXT,\\n  \"movie_id\" TEXT\\n)'), ('movie_akas', 'table', 'CREATE TABLE \"movie_akas\" (\\n\"movie_id\" TEXT,\\n  \"ordering\" INTEGER,\\n  \"title\" TEXT,\\n  \"region\" TEXT,\\n  \"language\" TEXT,\\n  \"types\" TEXT,\\n  \"attributes\" TEXT,\\n  \"is_original_title\" REAL\\n)'), ('movie_ratings', 'table', 'CREATE TABLE \"movie_ratings\" (\\n\"movie_id\" TEXT,\\n  \"averagerating\" REAL,\\n  \"numvotes\" INTEGER\\n)'), ('persons', 'table', 'CREATE TABLE \"persons\" (\\n\"person_id\" TEXT,\\n  \"primary_name\" TEXT,\\n  \"birth_year\" REAL,\\n  \"death_year\" REAL,\\n  \"primary_profession\" TEXT\\n)'), ('principals', 'table', 'CREATE TABLE \"principals\" (\\n\"movie_id\" TEXT,\\n  \"ordering\" INTEGER,\\n  \"person_id\" TEXT,\\n  \"category\" TEXT,\\n  \"job\" TEXT,\\n  \"characters\" TEXT\\n)'), ('writers', 'table', 'CREATE TABLE \"writers\" (\\n\"movie_id\" TEXT,\\n  \"person_id\" TEXT\\n)')]\n"
     ]
    }
   ],
   "source": [
    "cur.execute(\"\"\" SELECT name, type, sql FROM sqlite_master WHERE type = 'table';\"\"\")\n",
    "\n",
    "tables = cur.fetchall()\n",
    "\n",
    "print(tables)"
   ]
  },
  {
   "cell_type": "markdown",
   "metadata": {},
   "source": [
    "The imdb database has the following tables 'movie_basics', 'directors', 'known_for', 'movie_akas','movie_ratings', 'persons', 'principals', 'writers'\n",
    "\n",
    "Next we will load this data into a dataframe for easier inspection and review."
   ]
  },
  {
   "cell_type": "code",
   "execution_count": 107,
   "metadata": {},
   "outputs": [
    {
     "name": "stdout",
     "output_type": "stream",
     "text": [
      "Table Name: movie_basics\n",
      "SQL: CREATE TABLE \"movie_basics\" (\n",
      "\"movie_id\" TEXT,\n",
      "  \"primary_title\" TEXT,\n",
      "  \"original_title\" TEXT,\n",
      "  \"start_year\" INTEGER,\n",
      "  \"runtime_minutes\" REAL,\n",
      "  \"genres\" TEXT\n",
      ")\n",
      "\n",
      "Table Name: directors\n",
      "SQL: CREATE TABLE \"directors\" (\n",
      "\"movie_id\" TEXT,\n",
      "  \"person_id\" TEXT\n",
      ")\n",
      "\n",
      "Table Name: known_for\n",
      "SQL: CREATE TABLE \"known_for\" (\n",
      "\"person_id\" TEXT,\n",
      "  \"movie_id\" TEXT\n",
      ")\n",
      "\n",
      "Table Name: movie_akas\n",
      "SQL: CREATE TABLE \"movie_akas\" (\n",
      "\"movie_id\" TEXT,\n",
      "  \"ordering\" INTEGER,\n",
      "  \"title\" TEXT,\n",
      "  \"region\" TEXT,\n",
      "  \"language\" TEXT,\n",
      "  \"types\" TEXT,\n",
      "  \"attributes\" TEXT,\n",
      "  \"is_original_title\" REAL\n",
      ")\n",
      "\n",
      "Table Name: movie_ratings\n",
      "SQL: CREATE TABLE \"movie_ratings\" (\n",
      "\"movie_id\" TEXT,\n",
      "  \"averagerating\" REAL,\n",
      "  \"numvotes\" INTEGER\n",
      ")\n",
      "\n",
      "Table Name: persons\n",
      "SQL: CREATE TABLE \"persons\" (\n",
      "\"person_id\" TEXT,\n",
      "  \"primary_name\" TEXT,\n",
      "  \"birth_year\" REAL,\n",
      "  \"death_year\" REAL,\n",
      "  \"primary_profession\" TEXT\n",
      ")\n",
      "\n",
      "Table Name: principals\n",
      "SQL: CREATE TABLE \"principals\" (\n",
      "\"movie_id\" TEXT,\n",
      "  \"ordering\" INTEGER,\n",
      "  \"person_id\" TEXT,\n",
      "  \"category\" TEXT,\n",
      "  \"job\" TEXT,\n",
      "  \"characters\" TEXT\n",
      ")\n",
      "\n",
      "Table Name: writers\n",
      "SQL: CREATE TABLE \"writers\" (\n",
      "\"movie_id\" TEXT,\n",
      "  \"person_id\" TEXT\n",
      ")\n",
      "\n"
     ]
    }
   ],
   "source": [
    "for name, type, sql in tables:\n",
    "    print(f\"Table Name: {name}\")\n",
    "    print(f\"SQL: {sql}\")\n",
    "    print()"
   ]
  },
  {
   "cell_type": "markdown",
   "metadata": {},
   "source": [
    "From the column tables and looking at the excel sheets, we will narrow the database tables we work with to the following tables: <br/>\n",
    "'movie_basics', 'movie_ratings', 'directors', 'principals','persons'.<br/>\n",
    "Let us load these tables into DataFrames"
   ]
  },
  {
   "cell_type": "code",
   "execution_count": 108,
   "metadata": {},
   "outputs": [],
   "source": [
    "movie_basics_df = pd.read_sql(\"SELECT * FROM movie_basics\", conn)\n",
    "movie_ratings_df = pd.read_sql(\"SELECT * FROM movie_ratings\", conn)\n",
    "persons_df = pd.read_sql(\"SELECT * FROM persons\", conn)\n",
    "directors_df = pd.read_sql(\"SELECT * FROM directors\", conn)\n",
    "principals_df = pd.read_sql(\"SELECT * FROM principals\", conn)"
   ]
  },
  {
   "cell_type": "markdown",
   "metadata": {},
   "source": [
    "Based on the datasets and the business problem, I think the columns below will be useful in understanding which films are likely to perform well, why they are likely to be successful, what the budget for a successful film would be, and how much profit we can expect from such films. "
   ]
  },
  {
   "cell_type": "markdown",
   "metadata": {},
   "source": [
    "The columns below will be useful in solving our business problem\n",
    "\n",
    "Key Columns for Analysis:\n",
    "\n",
    "Genres: From tmdb.movies.csv and movie_basics. <br/>\n",
    "Release Date/Year: From tmdb.movies.csv and movie_basics. <br/>\n",
    "Ratings: From tmdb.movies.csv (vote_average and vote_count) and movie_ratings (averagerating and numvotes). <br/>\n",
    "Budget and Revenue: From tn.movie_budgets.csv (production_budget, domestic_gross, worldwide_gross). <br/>\n",
    "Popularity: From tmdb.movies.csv (popularity). <br/>\n",
    "Language: From tmdb.movies.csv (original_language). <br/>\n",
    "Runtime: From movie_basics (runtime_minutes). <br/>\n",
    "Director and Principal Roles: From persons,directors and principals. <br/>"
   ]
  },
  {
   "cell_type": "markdown",
   "metadata": {},
   "source": [
    "#### Step 1: Data Cleaning and Integration"
   ]
  },
  {
   "cell_type": "markdown",
   "metadata": {},
   "source": [
    "##### a. Inspect and clean the data"
   ]
  },
  {
   "cell_type": "code",
   "execution_count": 109,
   "metadata": {},
   "outputs": [
    {
     "name": "stdout",
     "output_type": "stream",
     "text": [
      "<class 'pandas.core.frame.DataFrame'>\n",
      "RangeIndex: 26517 entries, 0 to 26516\n",
      "Data columns (total 10 columns):\n",
      " #   Column             Non-Null Count  Dtype  \n",
      "---  ------             --------------  -----  \n",
      " 0   Unnamed: 0         26517 non-null  int64  \n",
      " 1   genre_ids          26517 non-null  object \n",
      " 2   id                 26517 non-null  int64  \n",
      " 3   original_language  26517 non-null  object \n",
      " 4   original_title     26517 non-null  object \n",
      " 5   popularity         26517 non-null  float64\n",
      " 6   release_date       26517 non-null  object \n",
      " 7   title              26517 non-null  object \n",
      " 8   vote_average       26517 non-null  float64\n",
      " 9   vote_count         26517 non-null  int64  \n",
      "dtypes: float64(2), int64(3), object(5)\n",
      "memory usage: 2.0+ MB\n",
      "None\n"
     ]
    },
    {
     "data": {
      "text/html": [
       "<div>\n",
       "<style scoped>\n",
       "    .dataframe tbody tr th:only-of-type {\n",
       "        vertical-align: middle;\n",
       "    }\n",
       "\n",
       "    .dataframe tbody tr th {\n",
       "        vertical-align: top;\n",
       "    }\n",
       "\n",
       "    .dataframe thead th {\n",
       "        text-align: right;\n",
       "    }\n",
       "</style>\n",
       "<table border=\"1\" class=\"dataframe\">\n",
       "  <thead>\n",
       "    <tr style=\"text-align: right;\">\n",
       "      <th></th>\n",
       "      <th>Unnamed: 0</th>\n",
       "      <th>genre_ids</th>\n",
       "      <th>id</th>\n",
       "      <th>original_language</th>\n",
       "      <th>original_title</th>\n",
       "      <th>popularity</th>\n",
       "      <th>release_date</th>\n",
       "      <th>title</th>\n",
       "      <th>vote_average</th>\n",
       "      <th>vote_count</th>\n",
       "    </tr>\n",
       "  </thead>\n",
       "  <tbody>\n",
       "    <tr>\n",
       "      <th>0</th>\n",
       "      <td>0</td>\n",
       "      <td>[12, 14, 10751]</td>\n",
       "      <td>12444</td>\n",
       "      <td>en</td>\n",
       "      <td>Harry Potter and the Deathly Hallows: Part 1</td>\n",
       "      <td>33.533</td>\n",
       "      <td>2010-11-19</td>\n",
       "      <td>Harry Potter and the Deathly Hallows: Part 1</td>\n",
       "      <td>7.7</td>\n",
       "      <td>10788</td>\n",
       "    </tr>\n",
       "    <tr>\n",
       "      <th>1</th>\n",
       "      <td>1</td>\n",
       "      <td>[14, 12, 16, 10751]</td>\n",
       "      <td>10191</td>\n",
       "      <td>en</td>\n",
       "      <td>How to Train Your Dragon</td>\n",
       "      <td>28.734</td>\n",
       "      <td>2010-03-26</td>\n",
       "      <td>How to Train Your Dragon</td>\n",
       "      <td>7.7</td>\n",
       "      <td>7610</td>\n",
       "    </tr>\n",
       "    <tr>\n",
       "      <th>2</th>\n",
       "      <td>2</td>\n",
       "      <td>[12, 28, 878]</td>\n",
       "      <td>10138</td>\n",
       "      <td>en</td>\n",
       "      <td>Iron Man 2</td>\n",
       "      <td>28.515</td>\n",
       "      <td>2010-05-07</td>\n",
       "      <td>Iron Man 2</td>\n",
       "      <td>6.8</td>\n",
       "      <td>12368</td>\n",
       "    </tr>\n",
       "    <tr>\n",
       "      <th>3</th>\n",
       "      <td>3</td>\n",
       "      <td>[16, 35, 10751]</td>\n",
       "      <td>862</td>\n",
       "      <td>en</td>\n",
       "      <td>Toy Story</td>\n",
       "      <td>28.005</td>\n",
       "      <td>1995-11-22</td>\n",
       "      <td>Toy Story</td>\n",
       "      <td>7.9</td>\n",
       "      <td>10174</td>\n",
       "    </tr>\n",
       "    <tr>\n",
       "      <th>4</th>\n",
       "      <td>4</td>\n",
       "      <td>[28, 878, 12]</td>\n",
       "      <td>27205</td>\n",
       "      <td>en</td>\n",
       "      <td>Inception</td>\n",
       "      <td>27.920</td>\n",
       "      <td>2010-07-16</td>\n",
       "      <td>Inception</td>\n",
       "      <td>8.3</td>\n",
       "      <td>22186</td>\n",
       "    </tr>\n",
       "  </tbody>\n",
       "</table>\n",
       "</div>"
      ],
      "text/plain": [
       "   Unnamed: 0            genre_ids     id original_language  \\\n",
       "0           0      [12, 14, 10751]  12444                en   \n",
       "1           1  [14, 12, 16, 10751]  10191                en   \n",
       "2           2        [12, 28, 878]  10138                en   \n",
       "3           3      [16, 35, 10751]    862                en   \n",
       "4           4        [28, 878, 12]  27205                en   \n",
       "\n",
       "                                 original_title  popularity release_date  \\\n",
       "0  Harry Potter and the Deathly Hallows: Part 1      33.533   2010-11-19   \n",
       "1                      How to Train Your Dragon      28.734   2010-03-26   \n",
       "2                                    Iron Man 2      28.515   2010-05-07   \n",
       "3                                     Toy Story      28.005   1995-11-22   \n",
       "4                                     Inception      27.920   2010-07-16   \n",
       "\n",
       "                                          title  vote_average  vote_count  \n",
       "0  Harry Potter and the Deathly Hallows: Part 1           7.7       10788  \n",
       "1                      How to Train Your Dragon           7.7        7610  \n",
       "2                                    Iron Man 2           6.8       12368  \n",
       "3                                     Toy Story           7.9       10174  \n",
       "4                                     Inception           8.3       22186  "
      ]
     },
     "execution_count": 109,
     "metadata": {},
     "output_type": "execute_result"
    }
   ],
   "source": [
    "# Inspect tmdb_movies_df\n",
    "\n",
    "print(tmdb_movies_df.info())\n",
    "tmdb_movies_df.head()\n",
    "\n"
   ]
  },
  {
   "cell_type": "markdown",
   "metadata": {},
   "source": [
    "tmdb_movies_df does not seem to have any missing values but it has an index column and the release_date is in string format.\n",
    "Let us convert release_date to datetime and drop the rows with missing values. We also don't need the unnamed column"
   ]
  },
  {
   "cell_type": "code",
   "execution_count": 110,
   "metadata": {},
   "outputs": [
    {
     "name": "stdout",
     "output_type": "stream",
     "text": [
      "<class 'pandas.core.frame.DataFrame'>\n",
      "RangeIndex: 26517 entries, 0 to 26516\n",
      "Data columns (total 7 columns):\n",
      " #   Column             Non-Null Count  Dtype         \n",
      "---  ------             --------------  -----         \n",
      " 0   original_language  26517 non-null  object        \n",
      " 1   original_title     26517 non-null  object        \n",
      " 2   popularity         26517 non-null  float64       \n",
      " 3   release_date       26517 non-null  datetime64[ns]\n",
      " 4   title              26517 non-null  object        \n",
      " 5   vote_average       26517 non-null  float64       \n",
      " 6   vote_count         26517 non-null  int64         \n",
      "dtypes: datetime64[ns](1), float64(2), int64(1), object(3)\n",
      "memory usage: 1.4+ MB\n",
      "None\n"
     ]
    },
    {
     "data": {
      "text/html": [
       "<div>\n",
       "<style scoped>\n",
       "    .dataframe tbody tr th:only-of-type {\n",
       "        vertical-align: middle;\n",
       "    }\n",
       "\n",
       "    .dataframe tbody tr th {\n",
       "        vertical-align: top;\n",
       "    }\n",
       "\n",
       "    .dataframe thead th {\n",
       "        text-align: right;\n",
       "    }\n",
       "</style>\n",
       "<table border=\"1\" class=\"dataframe\">\n",
       "  <thead>\n",
       "    <tr style=\"text-align: right;\">\n",
       "      <th></th>\n",
       "      <th>original_language</th>\n",
       "      <th>original_title</th>\n",
       "      <th>popularity</th>\n",
       "      <th>release_date</th>\n",
       "      <th>title</th>\n",
       "      <th>vote_average</th>\n",
       "      <th>vote_count</th>\n",
       "    </tr>\n",
       "  </thead>\n",
       "  <tbody>\n",
       "    <tr>\n",
       "      <th>0</th>\n",
       "      <td>en</td>\n",
       "      <td>Harry Potter and the Deathly Hallows: Part 1</td>\n",
       "      <td>33.533</td>\n",
       "      <td>2010-11-19</td>\n",
       "      <td>Harry Potter and the Deathly Hallows: Part 1</td>\n",
       "      <td>7.7</td>\n",
       "      <td>10788</td>\n",
       "    </tr>\n",
       "    <tr>\n",
       "      <th>1</th>\n",
       "      <td>en</td>\n",
       "      <td>How to Train Your Dragon</td>\n",
       "      <td>28.734</td>\n",
       "      <td>2010-03-26</td>\n",
       "      <td>How to Train Your Dragon</td>\n",
       "      <td>7.7</td>\n",
       "      <td>7610</td>\n",
       "    </tr>\n",
       "    <tr>\n",
       "      <th>2</th>\n",
       "      <td>en</td>\n",
       "      <td>Iron Man 2</td>\n",
       "      <td>28.515</td>\n",
       "      <td>2010-05-07</td>\n",
       "      <td>Iron Man 2</td>\n",
       "      <td>6.8</td>\n",
       "      <td>12368</td>\n",
       "    </tr>\n",
       "    <tr>\n",
       "      <th>3</th>\n",
       "      <td>en</td>\n",
       "      <td>Toy Story</td>\n",
       "      <td>28.005</td>\n",
       "      <td>1995-11-22</td>\n",
       "      <td>Toy Story</td>\n",
       "      <td>7.9</td>\n",
       "      <td>10174</td>\n",
       "    </tr>\n",
       "    <tr>\n",
       "      <th>4</th>\n",
       "      <td>en</td>\n",
       "      <td>Inception</td>\n",
       "      <td>27.920</td>\n",
       "      <td>2010-07-16</td>\n",
       "      <td>Inception</td>\n",
       "      <td>8.3</td>\n",
       "      <td>22186</td>\n",
       "    </tr>\n",
       "  </tbody>\n",
       "</table>\n",
       "</div>"
      ],
      "text/plain": [
       "  original_language                                original_title  popularity  \\\n",
       "0                en  Harry Potter and the Deathly Hallows: Part 1      33.533   \n",
       "1                en                      How to Train Your Dragon      28.734   \n",
       "2                en                                    Iron Man 2      28.515   \n",
       "3                en                                     Toy Story      28.005   \n",
       "4                en                                     Inception      27.920   \n",
       "\n",
       "  release_date                                         title  vote_average  \\\n",
       "0   2010-11-19  Harry Potter and the Deathly Hallows: Part 1           7.7   \n",
       "1   2010-03-26                      How to Train Your Dragon           7.7   \n",
       "2   2010-05-07                                    Iron Man 2           6.8   \n",
       "3   1995-11-22                                     Toy Story           7.9   \n",
       "4   2010-07-16                                     Inception           8.3   \n",
       "\n",
       "   vote_count  \n",
       "0       10788  \n",
       "1        7610  \n",
       "2       12368  \n",
       "3       10174  \n",
       "4       22186  "
      ]
     },
     "execution_count": 110,
     "metadata": {},
     "output_type": "execute_result"
    }
   ],
   "source": [
    "#convert release_date to datetime\n",
    "tmdb_movies_df['release_date'] = pd.to_datetime(tmdb_movies_df['release_date'])\n",
    "\n",
    "#let's drop 'unnamed: 0', 'id', and 'genre_ids' as they do not seem useful in their current formats\n",
    "tmdb_movies_df.drop(columns = ['Unnamed: 0', 'id','genre_ids'], inplace = True)\n",
    "\n",
    "print(tmdb_movies_df.info())\n",
    "tmdb_movies_df.head()"
   ]
  },
  {
   "cell_type": "code",
   "execution_count": 111,
   "metadata": {},
   "outputs": [
    {
     "name": "stdout",
     "output_type": "stream",
     "text": [
      "<class 'pandas.core.frame.DataFrame'>\n",
      "RangeIndex: 5782 entries, 0 to 5781\n",
      "Data columns (total 6 columns):\n",
      " #   Column             Non-Null Count  Dtype \n",
      "---  ------             --------------  ----- \n",
      " 0   id                 5782 non-null   int64 \n",
      " 1   release_date       5782 non-null   object\n",
      " 2   movie              5782 non-null   object\n",
      " 3   production_budget  5782 non-null   object\n",
      " 4   domestic_gross     5782 non-null   object\n",
      " 5   worldwide_gross    5782 non-null   object\n",
      "dtypes: int64(1), object(5)\n",
      "memory usage: 271.2+ KB\n",
      "None\n"
     ]
    },
    {
     "data": {
      "text/html": [
       "<div>\n",
       "<style scoped>\n",
       "    .dataframe tbody tr th:only-of-type {\n",
       "        vertical-align: middle;\n",
       "    }\n",
       "\n",
       "    .dataframe tbody tr th {\n",
       "        vertical-align: top;\n",
       "    }\n",
       "\n",
       "    .dataframe thead th {\n",
       "        text-align: right;\n",
       "    }\n",
       "</style>\n",
       "<table border=\"1\" class=\"dataframe\">\n",
       "  <thead>\n",
       "    <tr style=\"text-align: right;\">\n",
       "      <th></th>\n",
       "      <th>id</th>\n",
       "      <th>release_date</th>\n",
       "      <th>movie</th>\n",
       "      <th>production_budget</th>\n",
       "      <th>domestic_gross</th>\n",
       "      <th>worldwide_gross</th>\n",
       "    </tr>\n",
       "  </thead>\n",
       "  <tbody>\n",
       "    <tr>\n",
       "      <th>0</th>\n",
       "      <td>1</td>\n",
       "      <td>Dec 18, 2009</td>\n",
       "      <td>Avatar</td>\n",
       "      <td>$425,000,000</td>\n",
       "      <td>$760,507,625</td>\n",
       "      <td>$2,776,345,279</td>\n",
       "    </tr>\n",
       "    <tr>\n",
       "      <th>1</th>\n",
       "      <td>2</td>\n",
       "      <td>May 20, 2011</td>\n",
       "      <td>Pirates of the Caribbean: On Stranger Tides</td>\n",
       "      <td>$410,600,000</td>\n",
       "      <td>$241,063,875</td>\n",
       "      <td>$1,045,663,875</td>\n",
       "    </tr>\n",
       "    <tr>\n",
       "      <th>2</th>\n",
       "      <td>3</td>\n",
       "      <td>Jun 7, 2019</td>\n",
       "      <td>Dark Phoenix</td>\n",
       "      <td>$350,000,000</td>\n",
       "      <td>$42,762,350</td>\n",
       "      <td>$149,762,350</td>\n",
       "    </tr>\n",
       "    <tr>\n",
       "      <th>3</th>\n",
       "      <td>4</td>\n",
       "      <td>May 1, 2015</td>\n",
       "      <td>Avengers: Age of Ultron</td>\n",
       "      <td>$330,600,000</td>\n",
       "      <td>$459,005,868</td>\n",
       "      <td>$1,403,013,963</td>\n",
       "    </tr>\n",
       "    <tr>\n",
       "      <th>4</th>\n",
       "      <td>5</td>\n",
       "      <td>Dec 15, 2017</td>\n",
       "      <td>Star Wars Ep. VIII: The Last Jedi</td>\n",
       "      <td>$317,000,000</td>\n",
       "      <td>$620,181,382</td>\n",
       "      <td>$1,316,721,747</td>\n",
       "    </tr>\n",
       "  </tbody>\n",
       "</table>\n",
       "</div>"
      ],
      "text/plain": [
       "   id  release_date                                        movie  \\\n",
       "0   1  Dec 18, 2009                                       Avatar   \n",
       "1   2  May 20, 2011  Pirates of the Caribbean: On Stranger Tides   \n",
       "2   3   Jun 7, 2019                                 Dark Phoenix   \n",
       "3   4   May 1, 2015                      Avengers: Age of Ultron   \n",
       "4   5  Dec 15, 2017            Star Wars Ep. VIII: The Last Jedi   \n",
       "\n",
       "  production_budget domestic_gross worldwide_gross  \n",
       "0      $425,000,000   $760,507,625  $2,776,345,279  \n",
       "1      $410,600,000   $241,063,875  $1,045,663,875  \n",
       "2      $350,000,000    $42,762,350    $149,762,350  \n",
       "3      $330,600,000   $459,005,868  $1,403,013,963  \n",
       "4      $317,000,000   $620,181,382  $1,316,721,747  "
      ]
     },
     "execution_count": 111,
     "metadata": {},
     "output_type": "execute_result"
    }
   ],
   "source": [
    "# Inspect movie_budgets_df\n",
    "print(movie_budgets_df.info())\n",
    "movie_budgets_df.head()\n",
    "\n"
   ]
  },
  {
   "cell_type": "markdown",
   "metadata": {},
   "source": [
    "movie_budgets_df does not have any missing values either but release date is in string format and production_budget, domestic_gross, worldwide_gross have '$' characters that we should remove to convert the data into integers or floats. It also has an index column that we should keep in mind."
   ]
  },
  {
   "cell_type": "code",
   "execution_count": 112,
   "metadata": {},
   "outputs": [
    {
     "name": "stdout",
     "output_type": "stream",
     "text": [
      "<class 'pandas.core.frame.DataFrame'>\n",
      "RangeIndex: 5782 entries, 0 to 5781\n",
      "Data columns (total 4 columns):\n",
      " #   Column             Non-Null Count  Dtype \n",
      "---  ------             --------------  ----- \n",
      " 0   movie              5782 non-null   object\n",
      " 1   production_budget  5782 non-null   int64 \n",
      " 2   domestic_gross     5782 non-null   int64 \n",
      " 3   worldwide_gross    5782 non-null   int64 \n",
      "dtypes: int64(3), object(1)\n",
      "memory usage: 180.8+ KB\n",
      "None\n"
     ]
    },
    {
     "data": {
      "text/html": [
       "<div>\n",
       "<style scoped>\n",
       "    .dataframe tbody tr th:only-of-type {\n",
       "        vertical-align: middle;\n",
       "    }\n",
       "\n",
       "    .dataframe tbody tr th {\n",
       "        vertical-align: top;\n",
       "    }\n",
       "\n",
       "    .dataframe thead th {\n",
       "        text-align: right;\n",
       "    }\n",
       "</style>\n",
       "<table border=\"1\" class=\"dataframe\">\n",
       "  <thead>\n",
       "    <tr style=\"text-align: right;\">\n",
       "      <th></th>\n",
       "      <th>movie</th>\n",
       "      <th>production_budget</th>\n",
       "      <th>domestic_gross</th>\n",
       "      <th>worldwide_gross</th>\n",
       "    </tr>\n",
       "  </thead>\n",
       "  <tbody>\n",
       "    <tr>\n",
       "      <th>0</th>\n",
       "      <td>Avatar</td>\n",
       "      <td>425000000</td>\n",
       "      <td>760507625</td>\n",
       "      <td>2776345279</td>\n",
       "    </tr>\n",
       "    <tr>\n",
       "      <th>1</th>\n",
       "      <td>Pirates of the Caribbean: On Stranger Tides</td>\n",
       "      <td>410600000</td>\n",
       "      <td>241063875</td>\n",
       "      <td>1045663875</td>\n",
       "    </tr>\n",
       "    <tr>\n",
       "      <th>2</th>\n",
       "      <td>Dark Phoenix</td>\n",
       "      <td>350000000</td>\n",
       "      <td>42762350</td>\n",
       "      <td>149762350</td>\n",
       "    </tr>\n",
       "    <tr>\n",
       "      <th>3</th>\n",
       "      <td>Avengers: Age of Ultron</td>\n",
       "      <td>330600000</td>\n",
       "      <td>459005868</td>\n",
       "      <td>1403013963</td>\n",
       "    </tr>\n",
       "    <tr>\n",
       "      <th>4</th>\n",
       "      <td>Star Wars Ep. VIII: The Last Jedi</td>\n",
       "      <td>317000000</td>\n",
       "      <td>620181382</td>\n",
       "      <td>1316721747</td>\n",
       "    </tr>\n",
       "  </tbody>\n",
       "</table>\n",
       "</div>"
      ],
      "text/plain": [
       "                                         movie  production_budget  \\\n",
       "0                                       Avatar          425000000   \n",
       "1  Pirates of the Caribbean: On Stranger Tides          410600000   \n",
       "2                                 Dark Phoenix          350000000   \n",
       "3                      Avengers: Age of Ultron          330600000   \n",
       "4            Star Wars Ep. VIII: The Last Jedi          317000000   \n",
       "\n",
       "   domestic_gross  worldwide_gross  \n",
       "0       760507625       2776345279  \n",
       "1       241063875       1045663875  \n",
       "2        42762350        149762350  \n",
       "3       459005868       1403013963  \n",
       "4       620181382       1316721747  "
      ]
     },
     "execution_count": 112,
     "metadata": {},
     "output_type": "execute_result"
    }
   ],
   "source": [
    "#remove dollar sign from columns and convert to intergers\n",
    "columns_to_clean = ['production_budget','domestic_gross','worldwide_gross']\n",
    "\n",
    "for column in columns_to_clean:\n",
    "    movie_budgets_df[column] = movie_budgets_df[column].replace('[\\$,]','', regex = True).astype(np.int64)\n",
    "\n",
    "#we do not need the column 'id'\n",
    "movie_budgets_df.drop(columns = ['id', 'release_date'], inplace  = True)\n",
    "\n",
    "print(movie_budgets_df.info())\n",
    "movie_budgets_df.head()\n"
   ]
  },
  {
   "cell_type": "markdown",
   "metadata": {},
   "source": [
    "Let us merge movie_budgets_df and tmdb movies using the movie name to see the box office performance of each movie in addition to ratings and other movie details"
   ]
  },
  {
   "cell_type": "code",
   "execution_count": 113,
   "metadata": {},
   "outputs": [
    {
     "name": "stdout",
     "output_type": "stream",
     "text": [
      "<class 'pandas.core.frame.DataFrame'>\n",
      "Int64Index: 2385 entries, 0 to 2384\n",
      "Data columns (total 10 columns):\n",
      " #   Column             Non-Null Count  Dtype         \n",
      "---  ------             --------------  -----         \n",
      " 0   movie              2385 non-null   object        \n",
      " 1   production_budget  2385 non-null   int64         \n",
      " 2   domestic_gross     2385 non-null   int64         \n",
      " 3   worldwide_gross    2385 non-null   int64         \n",
      " 4   original_language  2385 non-null   object        \n",
      " 5   original_title     2385 non-null   object        \n",
      " 6   popularity         2385 non-null   float64       \n",
      " 7   release_date       2385 non-null   datetime64[ns]\n",
      " 8   vote_average       2385 non-null   float64       \n",
      " 9   vote_count         2385 non-null   int64         \n",
      "dtypes: datetime64[ns](1), float64(2), int64(4), object(3)\n",
      "memory usage: 205.0+ KB\n",
      "None\n"
     ]
    },
    {
     "data": {
      "text/html": [
       "<div>\n",
       "<style scoped>\n",
       "    .dataframe tbody tr th:only-of-type {\n",
       "        vertical-align: middle;\n",
       "    }\n",
       "\n",
       "    .dataframe tbody tr th {\n",
       "        vertical-align: top;\n",
       "    }\n",
       "\n",
       "    .dataframe thead th {\n",
       "        text-align: right;\n",
       "    }\n",
       "</style>\n",
       "<table border=\"1\" class=\"dataframe\">\n",
       "  <thead>\n",
       "    <tr style=\"text-align: right;\">\n",
       "      <th></th>\n",
       "      <th>movie</th>\n",
       "      <th>production_budget</th>\n",
       "      <th>domestic_gross</th>\n",
       "      <th>worldwide_gross</th>\n",
       "      <th>original_language</th>\n",
       "      <th>original_title</th>\n",
       "      <th>popularity</th>\n",
       "      <th>release_date</th>\n",
       "      <th>vote_average</th>\n",
       "      <th>vote_count</th>\n",
       "    </tr>\n",
       "  </thead>\n",
       "  <tbody>\n",
       "    <tr>\n",
       "      <th>0</th>\n",
       "      <td>Avatar</td>\n",
       "      <td>425000000</td>\n",
       "      <td>760507625</td>\n",
       "      <td>2776345279</td>\n",
       "      <td>en</td>\n",
       "      <td>Avatar</td>\n",
       "      <td>26.526</td>\n",
       "      <td>2009-12-18</td>\n",
       "      <td>7.4</td>\n",
       "      <td>18676</td>\n",
       "    </tr>\n",
       "    <tr>\n",
       "      <th>1</th>\n",
       "      <td>Pirates of the Caribbean: On Stranger Tides</td>\n",
       "      <td>410600000</td>\n",
       "      <td>241063875</td>\n",
       "      <td>1045663875</td>\n",
       "      <td>en</td>\n",
       "      <td>Pirates of the Caribbean: On Stranger Tides</td>\n",
       "      <td>30.579</td>\n",
       "      <td>2011-05-20</td>\n",
       "      <td>6.4</td>\n",
       "      <td>8571</td>\n",
       "    </tr>\n",
       "    <tr>\n",
       "      <th>2</th>\n",
       "      <td>Avengers: Age of Ultron</td>\n",
       "      <td>330600000</td>\n",
       "      <td>459005868</td>\n",
       "      <td>1403013963</td>\n",
       "      <td>en</td>\n",
       "      <td>Avengers: Age of Ultron</td>\n",
       "      <td>44.383</td>\n",
       "      <td>2015-05-01</td>\n",
       "      <td>7.3</td>\n",
       "      <td>13457</td>\n",
       "    </tr>\n",
       "    <tr>\n",
       "      <th>3</th>\n",
       "      <td>Avengers: Infinity War</td>\n",
       "      <td>300000000</td>\n",
       "      <td>678815482</td>\n",
       "      <td>2048134200</td>\n",
       "      <td>en</td>\n",
       "      <td>Avengers: Infinity War</td>\n",
       "      <td>80.773</td>\n",
       "      <td>2018-04-27</td>\n",
       "      <td>8.3</td>\n",
       "      <td>13948</td>\n",
       "    </tr>\n",
       "    <tr>\n",
       "      <th>4</th>\n",
       "      <td>Justice League</td>\n",
       "      <td>300000000</td>\n",
       "      <td>229024295</td>\n",
       "      <td>655945209</td>\n",
       "      <td>en</td>\n",
       "      <td>Justice League</td>\n",
       "      <td>34.953</td>\n",
       "      <td>2017-11-17</td>\n",
       "      <td>6.2</td>\n",
       "      <td>7510</td>\n",
       "    </tr>\n",
       "  </tbody>\n",
       "</table>\n",
       "</div>"
      ],
      "text/plain": [
       "                                         movie  production_budget  \\\n",
       "0                                       Avatar          425000000   \n",
       "1  Pirates of the Caribbean: On Stranger Tides          410600000   \n",
       "2                      Avengers: Age of Ultron          330600000   \n",
       "3                       Avengers: Infinity War          300000000   \n",
       "4                               Justice League          300000000   \n",
       "\n",
       "   domestic_gross  worldwide_gross original_language  \\\n",
       "0       760507625       2776345279                en   \n",
       "1       241063875       1045663875                en   \n",
       "2       459005868       1403013963                en   \n",
       "3       678815482       2048134200                en   \n",
       "4       229024295        655945209                en   \n",
       "\n",
       "                                original_title  popularity release_date  \\\n",
       "0                                       Avatar      26.526   2009-12-18   \n",
       "1  Pirates of the Caribbean: On Stranger Tides      30.579   2011-05-20   \n",
       "2                      Avengers: Age of Ultron      44.383   2015-05-01   \n",
       "3                       Avengers: Infinity War      80.773   2018-04-27   \n",
       "4                               Justice League      34.953   2017-11-17   \n",
       "\n",
       "   vote_average  vote_count  \n",
       "0           7.4       18676  \n",
       "1           6.4        8571  \n",
       "2           7.3       13457  \n",
       "3           8.3       13948  \n",
       "4           6.2        7510  "
      ]
     },
     "execution_count": 113,
     "metadata": {},
     "output_type": "execute_result"
    }
   ],
   "source": [
    "#first we will need to rename title to movie in tmdb_movies for us to have a common column\n",
    "\n",
    "tmdb_movies_df.rename(columns = {'title':'movie'}, inplace = True)\n",
    "\n",
    "tmdb_movies_performance_df = pd.merge(movie_budgets_df, tmdb_movies_df, on = 'movie', how = 'inner')\n",
    "\n",
    "print(tmdb_movies_performance_df.info())\n",
    "tmdb_movies_performance_df.head()"
   ]
  },
  {
   "cell_type": "code",
   "execution_count": 114,
   "metadata": {},
   "outputs": [
    {
     "name": "stdout",
     "output_type": "stream",
     "text": [
      "<class 'pandas.core.frame.DataFrame'>\n",
      "RangeIndex: 146144 entries, 0 to 146143\n",
      "Data columns (total 6 columns):\n",
      " #   Column           Non-Null Count   Dtype  \n",
      "---  ------           --------------   -----  \n",
      " 0   movie_id         146144 non-null  object \n",
      " 1   primary_title    146144 non-null  object \n",
      " 2   original_title   146123 non-null  object \n",
      " 3   start_year       146144 non-null  int64  \n",
      " 4   runtime_minutes  114405 non-null  float64\n",
      " 5   genres           140736 non-null  object \n",
      "dtypes: float64(1), int64(1), object(4)\n",
      "memory usage: 6.7+ MB\n",
      "None\n"
     ]
    },
    {
     "data": {
      "text/html": [
       "<div>\n",
       "<style scoped>\n",
       "    .dataframe tbody tr th:only-of-type {\n",
       "        vertical-align: middle;\n",
       "    }\n",
       "\n",
       "    .dataframe tbody tr th {\n",
       "        vertical-align: top;\n",
       "    }\n",
       "\n",
       "    .dataframe thead th {\n",
       "        text-align: right;\n",
       "    }\n",
       "</style>\n",
       "<table border=\"1\" class=\"dataframe\">\n",
       "  <thead>\n",
       "    <tr style=\"text-align: right;\">\n",
       "      <th></th>\n",
       "      <th>movie_id</th>\n",
       "      <th>primary_title</th>\n",
       "      <th>original_title</th>\n",
       "      <th>start_year</th>\n",
       "      <th>runtime_minutes</th>\n",
       "      <th>genres</th>\n",
       "    </tr>\n",
       "  </thead>\n",
       "  <tbody>\n",
       "    <tr>\n",
       "      <th>0</th>\n",
       "      <td>tt0063540</td>\n",
       "      <td>Sunghursh</td>\n",
       "      <td>Sunghursh</td>\n",
       "      <td>2013</td>\n",
       "      <td>175.0</td>\n",
       "      <td>Action,Crime,Drama</td>\n",
       "    </tr>\n",
       "    <tr>\n",
       "      <th>1</th>\n",
       "      <td>tt0066787</td>\n",
       "      <td>One Day Before the Rainy Season</td>\n",
       "      <td>Ashad Ka Ek Din</td>\n",
       "      <td>2019</td>\n",
       "      <td>114.0</td>\n",
       "      <td>Biography,Drama</td>\n",
       "    </tr>\n",
       "    <tr>\n",
       "      <th>2</th>\n",
       "      <td>tt0069049</td>\n",
       "      <td>The Other Side of the Wind</td>\n",
       "      <td>The Other Side of the Wind</td>\n",
       "      <td>2018</td>\n",
       "      <td>122.0</td>\n",
       "      <td>Drama</td>\n",
       "    </tr>\n",
       "    <tr>\n",
       "      <th>3</th>\n",
       "      <td>tt0069204</td>\n",
       "      <td>Sabse Bada Sukh</td>\n",
       "      <td>Sabse Bada Sukh</td>\n",
       "      <td>2018</td>\n",
       "      <td>NaN</td>\n",
       "      <td>Comedy,Drama</td>\n",
       "    </tr>\n",
       "    <tr>\n",
       "      <th>4</th>\n",
       "      <td>tt0100275</td>\n",
       "      <td>The Wandering Soap Opera</td>\n",
       "      <td>La Telenovela Errante</td>\n",
       "      <td>2017</td>\n",
       "      <td>80.0</td>\n",
       "      <td>Comedy,Drama,Fantasy</td>\n",
       "    </tr>\n",
       "  </tbody>\n",
       "</table>\n",
       "</div>"
      ],
      "text/plain": [
       "    movie_id                    primary_title              original_title  \\\n",
       "0  tt0063540                        Sunghursh                   Sunghursh   \n",
       "1  tt0066787  One Day Before the Rainy Season             Ashad Ka Ek Din   \n",
       "2  tt0069049       The Other Side of the Wind  The Other Side of the Wind   \n",
       "3  tt0069204                  Sabse Bada Sukh             Sabse Bada Sukh   \n",
       "4  tt0100275         The Wandering Soap Opera       La Telenovela Errante   \n",
       "\n",
       "   start_year  runtime_minutes                genres  \n",
       "0        2013            175.0    Action,Crime,Drama  \n",
       "1        2019            114.0       Biography,Drama  \n",
       "2        2018            122.0                 Drama  \n",
       "3        2018              NaN          Comedy,Drama  \n",
       "4        2017             80.0  Comedy,Drama,Fantasy  "
      ]
     },
     "execution_count": 114,
     "metadata": {},
     "output_type": "execute_result"
    }
   ],
   "source": [
    " #Inspect movie_basics_df\n",
    "print(movie_basics_df.info())\n",
    "movie_basics_df.head()\n"
   ]
  },
  {
   "cell_type": "markdown",
   "metadata": {},
   "source": [
    "movie_basics_df has some missing values for original_title, runtime_minutes and genres. movie_id seems to be the column containing unique identifiers (primary key)"
   ]
  },
  {
   "cell_type": "code",
   "execution_count": 115,
   "metadata": {},
   "outputs": [
    {
     "name": "stdout",
     "output_type": "stream",
     "text": [
      "<class 'pandas.core.frame.DataFrame'>\n",
      "RangeIndex: 73856 entries, 0 to 73855\n",
      "Data columns (total 3 columns):\n",
      " #   Column         Non-Null Count  Dtype  \n",
      "---  ------         --------------  -----  \n",
      " 0   movie_id       73856 non-null  object \n",
      " 1   averagerating  73856 non-null  float64\n",
      " 2   numvotes       73856 non-null  int64  \n",
      "dtypes: float64(1), int64(1), object(1)\n",
      "memory usage: 1.7+ MB\n",
      "None\n"
     ]
    },
    {
     "data": {
      "text/html": [
       "<div>\n",
       "<style scoped>\n",
       "    .dataframe tbody tr th:only-of-type {\n",
       "        vertical-align: middle;\n",
       "    }\n",
       "\n",
       "    .dataframe tbody tr th {\n",
       "        vertical-align: top;\n",
       "    }\n",
       "\n",
       "    .dataframe thead th {\n",
       "        text-align: right;\n",
       "    }\n",
       "</style>\n",
       "<table border=\"1\" class=\"dataframe\">\n",
       "  <thead>\n",
       "    <tr style=\"text-align: right;\">\n",
       "      <th></th>\n",
       "      <th>movie_id</th>\n",
       "      <th>averagerating</th>\n",
       "      <th>numvotes</th>\n",
       "    </tr>\n",
       "  </thead>\n",
       "  <tbody>\n",
       "    <tr>\n",
       "      <th>0</th>\n",
       "      <td>tt10356526</td>\n",
       "      <td>8.3</td>\n",
       "      <td>31</td>\n",
       "    </tr>\n",
       "    <tr>\n",
       "      <th>1</th>\n",
       "      <td>tt10384606</td>\n",
       "      <td>8.9</td>\n",
       "      <td>559</td>\n",
       "    </tr>\n",
       "    <tr>\n",
       "      <th>2</th>\n",
       "      <td>tt1042974</td>\n",
       "      <td>6.4</td>\n",
       "      <td>20</td>\n",
       "    </tr>\n",
       "    <tr>\n",
       "      <th>3</th>\n",
       "      <td>tt1043726</td>\n",
       "      <td>4.2</td>\n",
       "      <td>50352</td>\n",
       "    </tr>\n",
       "    <tr>\n",
       "      <th>4</th>\n",
       "      <td>tt1060240</td>\n",
       "      <td>6.5</td>\n",
       "      <td>21</td>\n",
       "    </tr>\n",
       "  </tbody>\n",
       "</table>\n",
       "</div>"
      ],
      "text/plain": [
       "     movie_id  averagerating  numvotes\n",
       "0  tt10356526            8.3        31\n",
       "1  tt10384606            8.9       559\n",
       "2   tt1042974            6.4        20\n",
       "3   tt1043726            4.2     50352\n",
       "4   tt1060240            6.5        21"
      ]
     },
     "execution_count": 115,
     "metadata": {},
     "output_type": "execute_result"
    }
   ],
   "source": [
    "# Inspect movie_ratings_df\n",
    "print(movie_ratings_df.info())\n",
    "movie_ratings_df.head()\n",
    "\n"
   ]
  },
  {
   "cell_type": "markdown",
   "metadata": {},
   "source": [
    "movie_ratings seems ok with no missing value. movie_id seems to be a unique identifier"
   ]
  },
  {
   "cell_type": "code",
   "execution_count": 116,
   "metadata": {},
   "outputs": [
    {
     "name": "stdout",
     "output_type": "stream",
     "text": [
      "<class 'pandas.core.frame.DataFrame'>\n",
      "RangeIndex: 291174 entries, 0 to 291173\n",
      "Data columns (total 2 columns):\n",
      " #   Column     Non-Null Count   Dtype \n",
      "---  ------     --------------   ----- \n",
      " 0   movie_id   291174 non-null  object\n",
      " 1   person_id  291174 non-null  object\n",
      "dtypes: object(2)\n",
      "memory usage: 4.4+ MB\n",
      "None\n"
     ]
    },
    {
     "data": {
      "text/html": [
       "<div>\n",
       "<style scoped>\n",
       "    .dataframe tbody tr th:only-of-type {\n",
       "        vertical-align: middle;\n",
       "    }\n",
       "\n",
       "    .dataframe tbody tr th {\n",
       "        vertical-align: top;\n",
       "    }\n",
       "\n",
       "    .dataframe thead th {\n",
       "        text-align: right;\n",
       "    }\n",
       "</style>\n",
       "<table border=\"1\" class=\"dataframe\">\n",
       "  <thead>\n",
       "    <tr style=\"text-align: right;\">\n",
       "      <th></th>\n",
       "      <th>movie_id</th>\n",
       "      <th>person_id</th>\n",
       "    </tr>\n",
       "  </thead>\n",
       "  <tbody>\n",
       "    <tr>\n",
       "      <th>0</th>\n",
       "      <td>tt0285252</td>\n",
       "      <td>nm0899854</td>\n",
       "    </tr>\n",
       "    <tr>\n",
       "      <th>1</th>\n",
       "      <td>tt0462036</td>\n",
       "      <td>nm1940585</td>\n",
       "    </tr>\n",
       "    <tr>\n",
       "      <th>2</th>\n",
       "      <td>tt0835418</td>\n",
       "      <td>nm0151540</td>\n",
       "    </tr>\n",
       "    <tr>\n",
       "      <th>3</th>\n",
       "      <td>tt0835418</td>\n",
       "      <td>nm0151540</td>\n",
       "    </tr>\n",
       "    <tr>\n",
       "      <th>4</th>\n",
       "      <td>tt0878654</td>\n",
       "      <td>nm0089502</td>\n",
       "    </tr>\n",
       "  </tbody>\n",
       "</table>\n",
       "</div>"
      ],
      "text/plain": [
       "    movie_id  person_id\n",
       "0  tt0285252  nm0899854\n",
       "1  tt0462036  nm1940585\n",
       "2  tt0835418  nm0151540\n",
       "3  tt0835418  nm0151540\n",
       "4  tt0878654  nm0089502"
      ]
     },
     "execution_count": 116,
     "metadata": {},
     "output_type": "execute_result"
    }
   ],
   "source": [
    "# Inspect directors_df\n",
    "print(directors_df.info())\n",
    "directors_df.head()\n",
    "\n"
   ]
  },
  {
   "cell_type": "code",
   "execution_count": 117,
   "metadata": {},
   "outputs": [
    {
     "name": "stdout",
     "output_type": "stream",
     "text": [
      "<class 'pandas.core.frame.DataFrame'>\n",
      "RangeIndex: 606648 entries, 0 to 606647\n",
      "Data columns (total 5 columns):\n",
      " #   Column              Non-Null Count   Dtype  \n",
      "---  ------              --------------   -----  \n",
      " 0   person_id           606648 non-null  object \n",
      " 1   primary_name        606648 non-null  object \n",
      " 2   birth_year          82736 non-null   float64\n",
      " 3   death_year          6783 non-null    float64\n",
      " 4   primary_profession  555308 non-null  object \n",
      "dtypes: float64(2), object(3)\n",
      "memory usage: 23.1+ MB\n",
      "None\n"
     ]
    },
    {
     "data": {
      "text/html": [
       "<div>\n",
       "<style scoped>\n",
       "    .dataframe tbody tr th:only-of-type {\n",
       "        vertical-align: middle;\n",
       "    }\n",
       "\n",
       "    .dataframe tbody tr th {\n",
       "        vertical-align: top;\n",
       "    }\n",
       "\n",
       "    .dataframe thead th {\n",
       "        text-align: right;\n",
       "    }\n",
       "</style>\n",
       "<table border=\"1\" class=\"dataframe\">\n",
       "  <thead>\n",
       "    <tr style=\"text-align: right;\">\n",
       "      <th></th>\n",
       "      <th>person_id</th>\n",
       "      <th>primary_name</th>\n",
       "      <th>birth_year</th>\n",
       "      <th>death_year</th>\n",
       "      <th>primary_profession</th>\n",
       "    </tr>\n",
       "  </thead>\n",
       "  <tbody>\n",
       "    <tr>\n",
       "      <th>0</th>\n",
       "      <td>nm0061671</td>\n",
       "      <td>Mary Ellen Bauder</td>\n",
       "      <td>NaN</td>\n",
       "      <td>NaN</td>\n",
       "      <td>miscellaneous,production_manager,producer</td>\n",
       "    </tr>\n",
       "    <tr>\n",
       "      <th>1</th>\n",
       "      <td>nm0061865</td>\n",
       "      <td>Joseph Bauer</td>\n",
       "      <td>NaN</td>\n",
       "      <td>NaN</td>\n",
       "      <td>composer,music_department,sound_department</td>\n",
       "    </tr>\n",
       "    <tr>\n",
       "      <th>2</th>\n",
       "      <td>nm0062070</td>\n",
       "      <td>Bruce Baum</td>\n",
       "      <td>NaN</td>\n",
       "      <td>NaN</td>\n",
       "      <td>miscellaneous,actor,writer</td>\n",
       "    </tr>\n",
       "    <tr>\n",
       "      <th>3</th>\n",
       "      <td>nm0062195</td>\n",
       "      <td>Axel Baumann</td>\n",
       "      <td>NaN</td>\n",
       "      <td>NaN</td>\n",
       "      <td>camera_department,cinematographer,art_department</td>\n",
       "    </tr>\n",
       "    <tr>\n",
       "      <th>4</th>\n",
       "      <td>nm0062798</td>\n",
       "      <td>Pete Baxter</td>\n",
       "      <td>NaN</td>\n",
       "      <td>NaN</td>\n",
       "      <td>production_designer,art_department,set_decorator</td>\n",
       "    </tr>\n",
       "  </tbody>\n",
       "</table>\n",
       "</div>"
      ],
      "text/plain": [
       "   person_id       primary_name  birth_year  death_year  \\\n",
       "0  nm0061671  Mary Ellen Bauder         NaN         NaN   \n",
       "1  nm0061865       Joseph Bauer         NaN         NaN   \n",
       "2  nm0062070         Bruce Baum         NaN         NaN   \n",
       "3  nm0062195       Axel Baumann         NaN         NaN   \n",
       "4  nm0062798        Pete Baxter         NaN         NaN   \n",
       "\n",
       "                                 primary_profession  \n",
       "0         miscellaneous,production_manager,producer  \n",
       "1        composer,music_department,sound_department  \n",
       "2                        miscellaneous,actor,writer  \n",
       "3  camera_department,cinematographer,art_department  \n",
       "4  production_designer,art_department,set_decorator  "
      ]
     },
     "execution_count": 117,
     "metadata": {},
     "output_type": "execute_result"
    }
   ],
   "source": [
    "# Inspect persons_df\n",
    "print(persons_df.info())\n",
    "persons_df.head()"
   ]
  },
  {
   "cell_type": "markdown",
   "metadata": {},
   "source": [
    "directors_df seems ok with no missing value.movie_id seems to be a unique identifier"
   ]
  },
  {
   "cell_type": "code",
   "execution_count": 118,
   "metadata": {},
   "outputs": [
    {
     "name": "stdout",
     "output_type": "stream",
     "text": [
      "<class 'pandas.core.frame.DataFrame'>\n",
      "RangeIndex: 1028186 entries, 0 to 1028185\n",
      "Data columns (total 6 columns):\n",
      " #   Column      Non-Null Count    Dtype \n",
      "---  ------      --------------    ----- \n",
      " 0   movie_id    1028186 non-null  object\n",
      " 1   ordering    1028186 non-null  int64 \n",
      " 2   person_id   1028186 non-null  object\n",
      " 3   category    1028186 non-null  object\n",
      " 4   job         177684 non-null   object\n",
      " 5   characters  393360 non-null   object\n",
      "dtypes: int64(1), object(5)\n",
      "memory usage: 47.1+ MB\n",
      "None\n"
     ]
    },
    {
     "data": {
      "text/html": [
       "<div>\n",
       "<style scoped>\n",
       "    .dataframe tbody tr th:only-of-type {\n",
       "        vertical-align: middle;\n",
       "    }\n",
       "\n",
       "    .dataframe tbody tr th {\n",
       "        vertical-align: top;\n",
       "    }\n",
       "\n",
       "    .dataframe thead th {\n",
       "        text-align: right;\n",
       "    }\n",
       "</style>\n",
       "<table border=\"1\" class=\"dataframe\">\n",
       "  <thead>\n",
       "    <tr style=\"text-align: right;\">\n",
       "      <th></th>\n",
       "      <th>movie_id</th>\n",
       "      <th>ordering</th>\n",
       "      <th>person_id</th>\n",
       "      <th>category</th>\n",
       "      <th>job</th>\n",
       "      <th>characters</th>\n",
       "    </tr>\n",
       "  </thead>\n",
       "  <tbody>\n",
       "    <tr>\n",
       "      <th>0</th>\n",
       "      <td>tt0111414</td>\n",
       "      <td>1</td>\n",
       "      <td>nm0246005</td>\n",
       "      <td>actor</td>\n",
       "      <td>None</td>\n",
       "      <td>[\"The Man\"]</td>\n",
       "    </tr>\n",
       "    <tr>\n",
       "      <th>1</th>\n",
       "      <td>tt0111414</td>\n",
       "      <td>2</td>\n",
       "      <td>nm0398271</td>\n",
       "      <td>director</td>\n",
       "      <td>None</td>\n",
       "      <td>None</td>\n",
       "    </tr>\n",
       "    <tr>\n",
       "      <th>2</th>\n",
       "      <td>tt0111414</td>\n",
       "      <td>3</td>\n",
       "      <td>nm3739909</td>\n",
       "      <td>producer</td>\n",
       "      <td>producer</td>\n",
       "      <td>None</td>\n",
       "    </tr>\n",
       "    <tr>\n",
       "      <th>3</th>\n",
       "      <td>tt0323808</td>\n",
       "      <td>10</td>\n",
       "      <td>nm0059247</td>\n",
       "      <td>editor</td>\n",
       "      <td>None</td>\n",
       "      <td>None</td>\n",
       "    </tr>\n",
       "    <tr>\n",
       "      <th>4</th>\n",
       "      <td>tt0323808</td>\n",
       "      <td>1</td>\n",
       "      <td>nm3579312</td>\n",
       "      <td>actress</td>\n",
       "      <td>None</td>\n",
       "      <td>[\"Beth Boothby\"]</td>\n",
       "    </tr>\n",
       "  </tbody>\n",
       "</table>\n",
       "</div>"
      ],
      "text/plain": [
       "    movie_id  ordering  person_id  category       job        characters\n",
       "0  tt0111414         1  nm0246005     actor      None       [\"The Man\"]\n",
       "1  tt0111414         2  nm0398271  director      None              None\n",
       "2  tt0111414         3  nm3739909  producer  producer              None\n",
       "3  tt0323808        10  nm0059247    editor      None              None\n",
       "4  tt0323808         1  nm3579312   actress      None  [\"Beth Boothby\"]"
      ]
     },
     "execution_count": 118,
     "metadata": {},
     "output_type": "execute_result"
    }
   ],
   "source": [
    "# Inspect principals_df\n",
    "print(principals_df.info())\n",
    "principals_df.head()\n"
   ]
  },
  {
   "cell_type": "markdown",
   "metadata": {},
   "source": [
    "We have several missing rows for the job and characters columns. again movie_id seems to be a unique identifier"
   ]
  },
  {
   "cell_type": "markdown",
   "metadata": {},
   "source": [
    "Let us merge the movie_basics_df and movie_ratings_df using movie_id."
   ]
  },
  {
   "cell_type": "code",
   "execution_count": 119,
   "metadata": {},
   "outputs": [
    {
     "name": "stdout",
     "output_type": "stream",
     "text": [
      "<class 'pandas.core.frame.DataFrame'>\n",
      "Int64Index: 73856 entries, 0 to 73855\n",
      "Data columns (total 8 columns):\n",
      " #   Column           Non-Null Count  Dtype  \n",
      "---  ------           --------------  -----  \n",
      " 0   movie_id         73856 non-null  object \n",
      " 1   primary_title    73856 non-null  object \n",
      " 2   original_title   73856 non-null  object \n",
      " 3   start_year       73856 non-null  int64  \n",
      " 4   runtime_minutes  66236 non-null  float64\n",
      " 5   genres           73052 non-null  object \n",
      " 6   averagerating    73856 non-null  float64\n",
      " 7   numvotes         73856 non-null  int64  \n",
      "dtypes: float64(2), int64(2), object(4)\n",
      "memory usage: 5.1+ MB\n",
      "None\n"
     ]
    },
    {
     "data": {
      "text/html": [
       "<div>\n",
       "<style scoped>\n",
       "    .dataframe tbody tr th:only-of-type {\n",
       "        vertical-align: middle;\n",
       "    }\n",
       "\n",
       "    .dataframe tbody tr th {\n",
       "        vertical-align: top;\n",
       "    }\n",
       "\n",
       "    .dataframe thead th {\n",
       "        text-align: right;\n",
       "    }\n",
       "</style>\n",
       "<table border=\"1\" class=\"dataframe\">\n",
       "  <thead>\n",
       "    <tr style=\"text-align: right;\">\n",
       "      <th></th>\n",
       "      <th>movie_id</th>\n",
       "      <th>primary_title</th>\n",
       "      <th>original_title</th>\n",
       "      <th>start_year</th>\n",
       "      <th>runtime_minutes</th>\n",
       "      <th>genres</th>\n",
       "      <th>averagerating</th>\n",
       "      <th>numvotes</th>\n",
       "    </tr>\n",
       "  </thead>\n",
       "  <tbody>\n",
       "    <tr>\n",
       "      <th>0</th>\n",
       "      <td>tt0063540</td>\n",
       "      <td>Sunghursh</td>\n",
       "      <td>Sunghursh</td>\n",
       "      <td>2013</td>\n",
       "      <td>175.0</td>\n",
       "      <td>Action,Crime,Drama</td>\n",
       "      <td>7.0</td>\n",
       "      <td>77</td>\n",
       "    </tr>\n",
       "    <tr>\n",
       "      <th>1</th>\n",
       "      <td>tt0066787</td>\n",
       "      <td>One Day Before the Rainy Season</td>\n",
       "      <td>Ashad Ka Ek Din</td>\n",
       "      <td>2019</td>\n",
       "      <td>114.0</td>\n",
       "      <td>Biography,Drama</td>\n",
       "      <td>7.2</td>\n",
       "      <td>43</td>\n",
       "    </tr>\n",
       "    <tr>\n",
       "      <th>2</th>\n",
       "      <td>tt0069049</td>\n",
       "      <td>The Other Side of the Wind</td>\n",
       "      <td>The Other Side of the Wind</td>\n",
       "      <td>2018</td>\n",
       "      <td>122.0</td>\n",
       "      <td>Drama</td>\n",
       "      <td>6.9</td>\n",
       "      <td>4517</td>\n",
       "    </tr>\n",
       "    <tr>\n",
       "      <th>3</th>\n",
       "      <td>tt0069204</td>\n",
       "      <td>Sabse Bada Sukh</td>\n",
       "      <td>Sabse Bada Sukh</td>\n",
       "      <td>2018</td>\n",
       "      <td>NaN</td>\n",
       "      <td>Comedy,Drama</td>\n",
       "      <td>6.1</td>\n",
       "      <td>13</td>\n",
       "    </tr>\n",
       "    <tr>\n",
       "      <th>4</th>\n",
       "      <td>tt0100275</td>\n",
       "      <td>The Wandering Soap Opera</td>\n",
       "      <td>La Telenovela Errante</td>\n",
       "      <td>2017</td>\n",
       "      <td>80.0</td>\n",
       "      <td>Comedy,Drama,Fantasy</td>\n",
       "      <td>6.5</td>\n",
       "      <td>119</td>\n",
       "    </tr>\n",
       "  </tbody>\n",
       "</table>\n",
       "</div>"
      ],
      "text/plain": [
       "    movie_id                    primary_title              original_title  \\\n",
       "0  tt0063540                        Sunghursh                   Sunghursh   \n",
       "1  tt0066787  One Day Before the Rainy Season             Ashad Ka Ek Din   \n",
       "2  tt0069049       The Other Side of the Wind  The Other Side of the Wind   \n",
       "3  tt0069204                  Sabse Bada Sukh             Sabse Bada Sukh   \n",
       "4  tt0100275         The Wandering Soap Opera       La Telenovela Errante   \n",
       "\n",
       "   start_year  runtime_minutes                genres  averagerating  numvotes  \n",
       "0        2013            175.0    Action,Crime,Drama            7.0        77  \n",
       "1        2019            114.0       Biography,Drama            7.2        43  \n",
       "2        2018            122.0                 Drama            6.9      4517  \n",
       "3        2018              NaN          Comedy,Drama            6.1        13  \n",
       "4        2017             80.0  Comedy,Drama,Fantasy            6.5       119  "
      ]
     },
     "execution_count": 119,
     "metadata": {},
     "output_type": "execute_result"
    }
   ],
   "source": [
    "#start by merging movie_basics_df and movie_ratings_df\n",
    "movie_basics_and_ratings_df = pd.merge(movie_basics_df, movie_ratings_df, on = 'movie_id', how = 'inner')\n",
    "\n",
    "print(movie_basics_and_ratings_df.info())\n",
    "movie_basics_and_ratings_df.head()"
   ]
  },
  {
   "cell_type": "markdown",
   "metadata": {},
   "source": [
    "We can fill the missing values in the column run_time with the median run_time. Can we drop "
   ]
  },
  {
   "cell_type": "code",
   "execution_count": 120,
   "metadata": {},
   "outputs": [
    {
     "name": "stdout",
     "output_type": "stream",
     "text": [
      "<class 'pandas.core.frame.DataFrame'>\n",
      "Int64Index: 73052 entries, 0 to 73855\n",
      "Data columns (total 8 columns):\n",
      " #   Column           Non-Null Count  Dtype  \n",
      "---  ------           --------------  -----  \n",
      " 0   movie_id         73052 non-null  object \n",
      " 1   primary_title    73052 non-null  object \n",
      " 2   original_title   73052 non-null  object \n",
      " 3   start_year       73052 non-null  int64  \n",
      " 4   runtime_minutes  73052 non-null  float64\n",
      " 5   genres           73052 non-null  object \n",
      " 6   averagerating    73052 non-null  float64\n",
      " 7   numvotes         73052 non-null  int64  \n",
      "dtypes: float64(2), int64(2), object(4)\n",
      "memory usage: 5.0+ MB\n",
      "None\n"
     ]
    }
   ],
   "source": [
    "median_runtime = movie_basics_and_ratings_df['runtime_minutes'].median()\n",
    "\n",
    "movie_basics_and_ratings_df['runtime_minutes'] = movie_basics_and_ratings_df['runtime_minutes'].fillna(median_runtime)\n",
    "\n",
    "movie_basics_and_ratings_df.dropna(inplace = True)\n",
    "\n",
    "print(movie_basics_and_ratings_df.info())"
   ]
  },
  {
   "cell_type": "markdown",
   "metadata": {},
   "source": [
    "Next, let's merge the DataFrames with person_id as unique identifiers"
   ]
  },
  {
   "cell_type": "code",
   "execution_count": 121,
   "metadata": {},
   "outputs": [
    {
     "name": "stdout",
     "output_type": "stream",
     "text": [
      "<class 'pandas.core.frame.DataFrame'>\n",
      "Int64Index: 1829524 entries, 0 to 1829523\n",
      "Data columns (total 10 columns):\n",
      " #   Column              Dtype  \n",
      "---  ------              -----  \n",
      " 0   movie_id            object \n",
      " 1   person_id           object \n",
      " 2   ordering            float64\n",
      " 3   category            object \n",
      " 4   job                 object \n",
      " 5   characters          object \n",
      " 6   primary_name        object \n",
      " 7   birth_year          float64\n",
      " 8   death_year          float64\n",
      " 9   primary_profession  object \n",
      "dtypes: float64(3), object(7)\n",
      "memory usage: 153.5+ MB\n",
      "None\n"
     ]
    },
    {
     "data": {
      "text/html": [
       "<div>\n",
       "<style scoped>\n",
       "    .dataframe tbody tr th:only-of-type {\n",
       "        vertical-align: middle;\n",
       "    }\n",
       "\n",
       "    .dataframe tbody tr th {\n",
       "        vertical-align: top;\n",
       "    }\n",
       "\n",
       "    .dataframe thead th {\n",
       "        text-align: right;\n",
       "    }\n",
       "</style>\n",
       "<table border=\"1\" class=\"dataframe\">\n",
       "  <thead>\n",
       "    <tr style=\"text-align: right;\">\n",
       "      <th></th>\n",
       "      <th>movie_id</th>\n",
       "      <th>person_id</th>\n",
       "      <th>ordering</th>\n",
       "      <th>category</th>\n",
       "      <th>job</th>\n",
       "      <th>characters</th>\n",
       "      <th>primary_name</th>\n",
       "      <th>birth_year</th>\n",
       "      <th>death_year</th>\n",
       "      <th>primary_profession</th>\n",
       "    </tr>\n",
       "  </thead>\n",
       "  <tbody>\n",
       "    <tr>\n",
       "      <th>0</th>\n",
       "      <td>tt0285252</td>\n",
       "      <td>nm0899854</td>\n",
       "      <td>5.0</td>\n",
       "      <td>director</td>\n",
       "      <td>None</td>\n",
       "      <td>None</td>\n",
       "      <td>Tony Vitale</td>\n",
       "      <td>1964.0</td>\n",
       "      <td>NaN</td>\n",
       "      <td>producer,director,writer</td>\n",
       "    </tr>\n",
       "    <tr>\n",
       "      <th>1</th>\n",
       "      <td>tt0462036</td>\n",
       "      <td>nm1940585</td>\n",
       "      <td>5.0</td>\n",
       "      <td>director</td>\n",
       "      <td>None</td>\n",
       "      <td>None</td>\n",
       "      <td>Bill Haley</td>\n",
       "      <td>NaN</td>\n",
       "      <td>NaN</td>\n",
       "      <td>director,writer,producer</td>\n",
       "    </tr>\n",
       "    <tr>\n",
       "      <th>2</th>\n",
       "      <td>tt0835418</td>\n",
       "      <td>nm0151540</td>\n",
       "      <td>1.0</td>\n",
       "      <td>actor</td>\n",
       "      <td>None</td>\n",
       "      <td>[\"Thorny\"]</td>\n",
       "      <td>Jay Chandrasekhar</td>\n",
       "      <td>1968.0</td>\n",
       "      <td>NaN</td>\n",
       "      <td>director,actor,writer</td>\n",
       "    </tr>\n",
       "    <tr>\n",
       "      <th>3</th>\n",
       "      <td>tt0835418</td>\n",
       "      <td>nm0151540</td>\n",
       "      <td>4.0</td>\n",
       "      <td>self</td>\n",
       "      <td>None</td>\n",
       "      <td>[\"Himself - Director of 'Super Troopers' - 'Th...</td>\n",
       "      <td>Jay Chandrasekhar</td>\n",
       "      <td>1968.0</td>\n",
       "      <td>NaN</td>\n",
       "      <td>director,actor,writer</td>\n",
       "    </tr>\n",
       "    <tr>\n",
       "      <th>4</th>\n",
       "      <td>tt0835418</td>\n",
       "      <td>nm0151540</td>\n",
       "      <td>5.0</td>\n",
       "      <td>director</td>\n",
       "      <td>None</td>\n",
       "      <td>None</td>\n",
       "      <td>Jay Chandrasekhar</td>\n",
       "      <td>1968.0</td>\n",
       "      <td>NaN</td>\n",
       "      <td>director,actor,writer</td>\n",
       "    </tr>\n",
       "  </tbody>\n",
       "</table>\n",
       "</div>"
      ],
      "text/plain": [
       "    movie_id  person_id  ordering  category   job  \\\n",
       "0  tt0285252  nm0899854       5.0  director  None   \n",
       "1  tt0462036  nm1940585       5.0  director  None   \n",
       "2  tt0835418  nm0151540       1.0     actor  None   \n",
       "3  tt0835418  nm0151540       4.0      self  None   \n",
       "4  tt0835418  nm0151540       5.0  director  None   \n",
       "\n",
       "                                          characters       primary_name  \\\n",
       "0                                               None        Tony Vitale   \n",
       "1                                               None         Bill Haley   \n",
       "2                                         [\"Thorny\"]  Jay Chandrasekhar   \n",
       "3  [\"Himself - Director of 'Super Troopers' - 'Th...  Jay Chandrasekhar   \n",
       "4                                               None  Jay Chandrasekhar   \n",
       "\n",
       "   birth_year  death_year        primary_profession  \n",
       "0      1964.0         NaN  producer,director,writer  \n",
       "1         NaN         NaN  director,writer,producer  \n",
       "2      1968.0         NaN     director,actor,writer  \n",
       "3      1968.0         NaN     director,actor,writer  \n",
       "4      1968.0         NaN     director,actor,writer  "
      ]
     },
     "execution_count": 121,
     "metadata": {},
     "output_type": "execute_result"
    }
   ],
   "source": [
    "#merges all directors and principals records\n",
    "directors_and_principals_df = pd.merge(directors_df, principals_df, on = 'person_id', how = 'outer')\n",
    "\n",
    "#merges all directors, principals and their personal details\n",
    "directors_and_principals_df = pd.merge(directors_and_principals_df, persons_df, on = 'person_id', how = 'inner')\n",
    "\n",
    "#drops duplicated movie_id column and renames movie_id_x to movie_id\n",
    "directors_and_principals_df.drop(columns = 'movie_id_y', inplace = True)\n",
    "directors_and_principals_df.rename(columns = {'movie_id_x': 'movie_id'}, inplace = True)\n",
    "\n",
    "print(directors_and_principals_df.info())\n",
    "directors_and_principals_df.head()\n"
   ]
  },
  {
   "cell_type": "markdown",
   "metadata": {},
   "source": [
    "Let's see this persons' ratings by merging the movie_ratings"
   ]
  },
  {
   "cell_type": "code",
   "execution_count": 122,
   "metadata": {},
   "outputs": [],
   "source": [
    "directors_and_principals_ratings_df =  pd.merge(directors_and_principals_df, movie_ratings_df, on = 'movie_id', how = 'inner')\n",
    "\n",
    "movie_basics_personnel_ratings_df = pd.merge(movie_basics_and_ratings_df, directors_and_principals_ratings_df, on = 'movie_id', how = 'inner')\n",
    "\n"
   ]
  },
  {
   "cell_type": "code",
   "execution_count": 123,
   "metadata": {},
   "outputs": [
    {
     "name": "stdout",
     "output_type": "stream",
     "text": [
      "<class 'pandas.core.frame.DataFrame'>\n",
      "Int64Index: 711125 entries, 0 to 711124\n",
      "Data columns (total 16 columns):\n",
      " #   Column              Non-Null Count   Dtype  \n",
      "---  ------              --------------   -----  \n",
      " 0   movie_id            711125 non-null  object \n",
      " 1   primary_title       711125 non-null  object \n",
      " 2   original_title      711125 non-null  object \n",
      " 3   start_year          711125 non-null  int64  \n",
      " 4   runtime_minutes     711125 non-null  float64\n",
      " 5   genres              711125 non-null  object \n",
      " 6   averagerating       711125 non-null  float64\n",
      " 7   numvotes            711125 non-null  int64  \n",
      " 8   person_id           711125 non-null  object \n",
      " 9   ordering            700004 non-null  float64\n",
      " 10  category            700004 non-null  object \n",
      " 11  characters          112297 non-null  object \n",
      " 12  primary_name        711125 non-null  object \n",
      " 13  birth_year          319299 non-null  float64\n",
      " 14  death_year          5206 non-null    float64\n",
      " 15  primary_profession  710990 non-null  object \n",
      "dtypes: float64(5), int64(2), object(9)\n",
      "memory usage: 92.2+ MB\n",
      "None\n"
     ]
    },
    {
     "data": {
      "text/html": [
       "<div>\n",
       "<style scoped>\n",
       "    .dataframe tbody tr th:only-of-type {\n",
       "        vertical-align: middle;\n",
       "    }\n",
       "\n",
       "    .dataframe tbody tr th {\n",
       "        vertical-align: top;\n",
       "    }\n",
       "\n",
       "    .dataframe thead th {\n",
       "        text-align: right;\n",
       "    }\n",
       "</style>\n",
       "<table border=\"1\" class=\"dataframe\">\n",
       "  <thead>\n",
       "    <tr style=\"text-align: right;\">\n",
       "      <th></th>\n",
       "      <th>movie_id</th>\n",
       "      <th>primary_title</th>\n",
       "      <th>original_title</th>\n",
       "      <th>start_year</th>\n",
       "      <th>runtime_minutes</th>\n",
       "      <th>genres</th>\n",
       "      <th>averagerating</th>\n",
       "      <th>numvotes</th>\n",
       "      <th>person_id</th>\n",
       "      <th>ordering</th>\n",
       "      <th>category</th>\n",
       "      <th>characters</th>\n",
       "      <th>primary_name</th>\n",
       "      <th>birth_year</th>\n",
       "      <th>death_year</th>\n",
       "      <th>primary_profession</th>\n",
       "    </tr>\n",
       "  </thead>\n",
       "  <tbody>\n",
       "    <tr>\n",
       "      <th>0</th>\n",
       "      <td>tt0063540</td>\n",
       "      <td>Sunghursh</td>\n",
       "      <td>Sunghursh</td>\n",
       "      <td>2013</td>\n",
       "      <td>175.0</td>\n",
       "      <td>Action,Crime,Drama</td>\n",
       "      <td>7.0</td>\n",
       "      <td>77</td>\n",
       "      <td>nm0712540</td>\n",
       "      <td>5.0</td>\n",
       "      <td>director</td>\n",
       "      <td>None</td>\n",
       "      <td>Harnam Singh Rawail</td>\n",
       "      <td>1921.0</td>\n",
       "      <td>2004.0</td>\n",
       "      <td>director,writer,producer</td>\n",
       "    </tr>\n",
       "    <tr>\n",
       "      <th>1</th>\n",
       "      <td>tt0063540</td>\n",
       "      <td>Sunghursh</td>\n",
       "      <td>Sunghursh</td>\n",
       "      <td>2013</td>\n",
       "      <td>175.0</td>\n",
       "      <td>Action,Crime,Drama</td>\n",
       "      <td>7.0</td>\n",
       "      <td>77</td>\n",
       "      <td>nm0712540</td>\n",
       "      <td>5.0</td>\n",
       "      <td>director</td>\n",
       "      <td>None</td>\n",
       "      <td>Harnam Singh Rawail</td>\n",
       "      <td>1921.0</td>\n",
       "      <td>2004.0</td>\n",
       "      <td>director,writer,producer</td>\n",
       "    </tr>\n",
       "    <tr>\n",
       "      <th>2</th>\n",
       "      <td>tt0063540</td>\n",
       "      <td>Sunghursh</td>\n",
       "      <td>Sunghursh</td>\n",
       "      <td>2013</td>\n",
       "      <td>175.0</td>\n",
       "      <td>Action,Crime,Drama</td>\n",
       "      <td>7.0</td>\n",
       "      <td>77</td>\n",
       "      <td>nm0712540</td>\n",
       "      <td>5.0</td>\n",
       "      <td>director</td>\n",
       "      <td>None</td>\n",
       "      <td>Harnam Singh Rawail</td>\n",
       "      <td>1921.0</td>\n",
       "      <td>2004.0</td>\n",
       "      <td>director,writer,producer</td>\n",
       "    </tr>\n",
       "    <tr>\n",
       "      <th>3</th>\n",
       "      <td>tt0063540</td>\n",
       "      <td>Sunghursh</td>\n",
       "      <td>Sunghursh</td>\n",
       "      <td>2013</td>\n",
       "      <td>175.0</td>\n",
       "      <td>Action,Crime,Drama</td>\n",
       "      <td>7.0</td>\n",
       "      <td>77</td>\n",
       "      <td>nm0712540</td>\n",
       "      <td>5.0</td>\n",
       "      <td>director</td>\n",
       "      <td>None</td>\n",
       "      <td>Harnam Singh Rawail</td>\n",
       "      <td>1921.0</td>\n",
       "      <td>2004.0</td>\n",
       "      <td>director,writer,producer</td>\n",
       "    </tr>\n",
       "    <tr>\n",
       "      <th>4</th>\n",
       "      <td>tt0066787</td>\n",
       "      <td>One Day Before the Rainy Season</td>\n",
       "      <td>Ashad Ka Ek Din</td>\n",
       "      <td>2019</td>\n",
       "      <td>114.0</td>\n",
       "      <td>Biography,Drama</td>\n",
       "      <td>7.2</td>\n",
       "      <td>43</td>\n",
       "      <td>nm0002411</td>\n",
       "      <td>5.0</td>\n",
       "      <td>director</td>\n",
       "      <td>None</td>\n",
       "      <td>Mani Kaul</td>\n",
       "      <td>1944.0</td>\n",
       "      <td>2011.0</td>\n",
       "      <td>director,writer,actor</td>\n",
       "    </tr>\n",
       "  </tbody>\n",
       "</table>\n",
       "</div>"
      ],
      "text/plain": [
       "    movie_id                    primary_title   original_title  start_year  \\\n",
       "0  tt0063540                        Sunghursh        Sunghursh        2013   \n",
       "1  tt0063540                        Sunghursh        Sunghursh        2013   \n",
       "2  tt0063540                        Sunghursh        Sunghursh        2013   \n",
       "3  tt0063540                        Sunghursh        Sunghursh        2013   \n",
       "4  tt0066787  One Day Before the Rainy Season  Ashad Ka Ek Din        2019   \n",
       "\n",
       "   runtime_minutes              genres  averagerating  numvotes  person_id  \\\n",
       "0            175.0  Action,Crime,Drama            7.0        77  nm0712540   \n",
       "1            175.0  Action,Crime,Drama            7.0        77  nm0712540   \n",
       "2            175.0  Action,Crime,Drama            7.0        77  nm0712540   \n",
       "3            175.0  Action,Crime,Drama            7.0        77  nm0712540   \n",
       "4            114.0     Biography,Drama            7.2        43  nm0002411   \n",
       "\n",
       "   ordering  category characters         primary_name  birth_year  death_year  \\\n",
       "0       5.0  director       None  Harnam Singh Rawail      1921.0      2004.0   \n",
       "1       5.0  director       None  Harnam Singh Rawail      1921.0      2004.0   \n",
       "2       5.0  director       None  Harnam Singh Rawail      1921.0      2004.0   \n",
       "3       5.0  director       None  Harnam Singh Rawail      1921.0      2004.0   \n",
       "4       5.0  director       None            Mani Kaul      1944.0      2011.0   \n",
       "\n",
       "         primary_profession  \n",
       "0  director,writer,producer  \n",
       "1  director,writer,producer  \n",
       "2  director,writer,producer  \n",
       "3  director,writer,producer  \n",
       "4     director,writer,actor  "
      ]
     },
     "execution_count": 123,
     "metadata": {},
     "output_type": "execute_result"
    }
   ],
   "source": [
    "columns_to_drop_2 = ['job', 'averagerating_y','numvotes_y']\n",
    "movie_basics_personnel_ratings_df.drop(columns = columns_to_drop_2, inplace = True)\n",
    "\n",
    "movie_basics_personnel_ratings_df.rename(columns = {'averagerating_x': 'averagerating', 'numvotes_x': 'numvotes'}, inplace = True)\n",
    "\n",
    "print(movie_basics_personnel_ratings_df.info())\n",
    "movie_basics_personnel_ratings_df.head()"
   ]
  },
  {
   "cell_type": "code",
   "execution_count": 124,
   "metadata": {},
   "outputs": [],
   "source": [
    "columns_to_drop_3 = ['movie_id','category','ordering', 'characters','person_id']\n",
    "\n",
    "movie_basics_personnel_ratings_df.drop(columns = columns_to_drop_3, inplace = True )"
   ]
  },
  {
   "cell_type": "markdown",
   "metadata": {},
   "source": [
    "Let us see if there are duplicated rows"
   ]
  },
  {
   "cell_type": "code",
   "execution_count": 125,
   "metadata": {},
   "outputs": [
    {
     "data": {
      "text/plain": [
       "625898"
      ]
     },
     "execution_count": 125,
     "metadata": {},
     "output_type": "execute_result"
    }
   ],
   "source": [
    "movie_basics_personnel_ratings_df.duplicated().sum()"
   ]
  },
  {
   "cell_type": "code",
   "execution_count": 126,
   "metadata": {},
   "outputs": [],
   "source": [
    "movie_basics_personnel_ratings_df.drop_duplicates(inplace = True)"
   ]
  },
  {
   "cell_type": "code",
   "execution_count": 127,
   "metadata": {},
   "outputs": [
    {
     "data": {
      "text/plain": [
       "0"
      ]
     },
     "execution_count": 127,
     "metadata": {},
     "output_type": "execute_result"
    }
   ],
   "source": [
    "movie_basics_personnel_ratings_df.duplicated().sum()"
   ]
  },
  {
   "cell_type": "code",
   "execution_count": 128,
   "metadata": {},
   "outputs": [],
   "source": [
    "movie_basics_personnel_ratings_df['birth_year'].fillna(0, inplace=True)\n",
    "movie_basics_personnel_ratings_df['death_year'].fillna(0, inplace=True)"
   ]
  },
  {
   "cell_type": "code",
   "execution_count": 129,
   "metadata": {},
   "outputs": [],
   "source": [
    "#Let's create the 'status' column to replace 'birth_year' and 'death_year' to see whether important personnel is alive or not\n",
    "def determine_status(row):\n",
    "    if row['death_year'] > 0:\n",
    "        return 'dead'\n",
    "    elif row['birth_year'] > 0 and row['death_year'] == 0:\n",
    "        return 'alive'\n",
    "    else:\n",
    "        return 'unknown'\n",
    "\n",
    "movie_basics_personnel_ratings_df['status'] = movie_basics_personnel_ratings_df.apply(determine_status, axis=1)\n",
    "\n",
    "\n",
    "movie_basics_personnel_ratings_df.drop(columns=['birth_year', 'death_year'], inplace=True)\n"
   ]
  },
  {
   "cell_type": "code",
   "execution_count": 130,
   "metadata": {},
   "outputs": [],
   "source": [
    "movie_basics_personnel_ratings_df.dropna(subset = ['primary_profession'], inplace = True)"
   ]
  },
  {
   "cell_type": "code",
   "execution_count": 131,
   "metadata": {},
   "outputs": [
    {
     "name": "stdout",
     "output_type": "stream",
     "text": [
      "<class 'pandas.core.frame.DataFrame'>\n",
      "Int64Index: 85138 entries, 0 to 711123\n",
      "Data columns (total 10 columns):\n",
      " #   Column              Non-Null Count  Dtype  \n",
      "---  ------              --------------  -----  \n",
      " 0   primary_title       85138 non-null  object \n",
      " 1   original_title      85138 non-null  object \n",
      " 2   start_year          85138 non-null  int64  \n",
      " 3   runtime_minutes     85138 non-null  float64\n",
      " 4   genres              85138 non-null  object \n",
      " 5   averagerating       85138 non-null  float64\n",
      " 6   numvotes            85138 non-null  int64  \n",
      " 7   primary_name        85138 non-null  object \n",
      " 8   primary_profession  85138 non-null  object \n",
      " 9   status              85138 non-null  object \n",
      "dtypes: float64(2), int64(2), object(6)\n",
      "memory usage: 7.1+ MB\n",
      "None\n"
     ]
    },
    {
     "data": {
      "text/html": [
       "<div>\n",
       "<style scoped>\n",
       "    .dataframe tbody tr th:only-of-type {\n",
       "        vertical-align: middle;\n",
       "    }\n",
       "\n",
       "    .dataframe tbody tr th {\n",
       "        vertical-align: top;\n",
       "    }\n",
       "\n",
       "    .dataframe thead th {\n",
       "        text-align: right;\n",
       "    }\n",
       "</style>\n",
       "<table border=\"1\" class=\"dataframe\">\n",
       "  <thead>\n",
       "    <tr style=\"text-align: right;\">\n",
       "      <th></th>\n",
       "      <th>primary_title</th>\n",
       "      <th>original_title</th>\n",
       "      <th>start_year</th>\n",
       "      <th>runtime_minutes</th>\n",
       "      <th>genres</th>\n",
       "      <th>averagerating</th>\n",
       "      <th>numvotes</th>\n",
       "      <th>primary_name</th>\n",
       "      <th>primary_profession</th>\n",
       "      <th>status</th>\n",
       "    </tr>\n",
       "  </thead>\n",
       "  <tbody>\n",
       "    <tr>\n",
       "      <th>0</th>\n",
       "      <td>Sunghursh</td>\n",
       "      <td>Sunghursh</td>\n",
       "      <td>2013</td>\n",
       "      <td>175.0</td>\n",
       "      <td>Action,Crime,Drama</td>\n",
       "      <td>7.0</td>\n",
       "      <td>77</td>\n",
       "      <td>Harnam Singh Rawail</td>\n",
       "      <td>director,writer,producer</td>\n",
       "      <td>dead</td>\n",
       "    </tr>\n",
       "    <tr>\n",
       "      <th>4</th>\n",
       "      <td>One Day Before the Rainy Season</td>\n",
       "      <td>Ashad Ka Ek Din</td>\n",
       "      <td>2019</td>\n",
       "      <td>114.0</td>\n",
       "      <td>Biography,Drama</td>\n",
       "      <td>7.2</td>\n",
       "      <td>43</td>\n",
       "      <td>Mani Kaul</td>\n",
       "      <td>director,writer,actor</td>\n",
       "      <td>dead</td>\n",
       "    </tr>\n",
       "    <tr>\n",
       "      <th>5</th>\n",
       "      <td>The Other Side of the Wind</td>\n",
       "      <td>The Other Side of the Wind</td>\n",
       "      <td>2018</td>\n",
       "      <td>122.0</td>\n",
       "      <td>Drama</td>\n",
       "      <td>6.9</td>\n",
       "      <td>4517</td>\n",
       "      <td>Orson Welles</td>\n",
       "      <td>actor,director,writer</td>\n",
       "      <td>dead</td>\n",
       "    </tr>\n",
       "    <tr>\n",
       "      <th>15</th>\n",
       "      <td>Sabse Bada Sukh</td>\n",
       "      <td>Sabse Bada Sukh</td>\n",
       "      <td>2018</td>\n",
       "      <td>91.0</td>\n",
       "      <td>Comedy,Drama</td>\n",
       "      <td>6.1</td>\n",
       "      <td>13</td>\n",
       "      <td>Hrishikesh Mukherjee</td>\n",
       "      <td>director,editor,writer</td>\n",
       "      <td>dead</td>\n",
       "    </tr>\n",
       "    <tr>\n",
       "      <th>16</th>\n",
       "      <td>The Wandering Soap Opera</td>\n",
       "      <td>La Telenovela Errante</td>\n",
       "      <td>2017</td>\n",
       "      <td>80.0</td>\n",
       "      <td>Comedy,Drama,Fantasy</td>\n",
       "      <td>6.5</td>\n",
       "      <td>119</td>\n",
       "      <td>Valeria Sarmiento</td>\n",
       "      <td>editor,director,writer</td>\n",
       "      <td>alive</td>\n",
       "    </tr>\n",
       "  </tbody>\n",
       "</table>\n",
       "</div>"
      ],
      "text/plain": [
       "                      primary_title              original_title  start_year  \\\n",
       "0                         Sunghursh                   Sunghursh        2013   \n",
       "4   One Day Before the Rainy Season             Ashad Ka Ek Din        2019   \n",
       "5        The Other Side of the Wind  The Other Side of the Wind        2018   \n",
       "15                  Sabse Bada Sukh             Sabse Bada Sukh        2018   \n",
       "16         The Wandering Soap Opera       La Telenovela Errante        2017   \n",
       "\n",
       "    runtime_minutes                genres  averagerating  numvotes  \\\n",
       "0             175.0    Action,Crime,Drama            7.0        77   \n",
       "4             114.0       Biography,Drama            7.2        43   \n",
       "5             122.0                 Drama            6.9      4517   \n",
       "15             91.0          Comedy,Drama            6.1        13   \n",
       "16             80.0  Comedy,Drama,Fantasy            6.5       119   \n",
       "\n",
       "            primary_name        primary_profession status  \n",
       "0    Harnam Singh Rawail  director,writer,producer   dead  \n",
       "4              Mani Kaul     director,writer,actor   dead  \n",
       "5           Orson Welles     actor,director,writer   dead  \n",
       "15  Hrishikesh Mukherjee    director,editor,writer   dead  \n",
       "16     Valeria Sarmiento    editor,director,writer  alive  "
      ]
     },
     "execution_count": 131,
     "metadata": {},
     "output_type": "execute_result"
    }
   ],
   "source": [
    "print(movie_basics_personnel_ratings_df.info())\n",
    "movie_basics_personnel_ratings_df.head()"
   ]
  },
  {
   "cell_type": "code",
   "execution_count": 132,
   "metadata": {},
   "outputs": [
    {
     "name": "stdout",
     "output_type": "stream",
     "text": [
      "<class 'pandas.core.frame.DataFrame'>\n",
      "Int64Index: 2385 entries, 0 to 2384\n",
      "Data columns (total 10 columns):\n",
      " #   Column             Non-Null Count  Dtype         \n",
      "---  ------             --------------  -----         \n",
      " 0   movie              2385 non-null   object        \n",
      " 1   production_budget  2385 non-null   int64         \n",
      " 2   domestic_gross     2385 non-null   int64         \n",
      " 3   worldwide_gross    2385 non-null   int64         \n",
      " 4   original_language  2385 non-null   object        \n",
      " 5   original_title     2385 non-null   object        \n",
      " 6   popularity         2385 non-null   float64       \n",
      " 7   release_date       2385 non-null   datetime64[ns]\n",
      " 8   vote_average       2385 non-null   float64       \n",
      " 9   vote_count         2385 non-null   int64         \n",
      "dtypes: datetime64[ns](1), float64(2), int64(4), object(3)\n",
      "memory usage: 205.0+ KB\n",
      "None\n"
     ]
    },
    {
     "data": {
      "text/html": [
       "<div>\n",
       "<style scoped>\n",
       "    .dataframe tbody tr th:only-of-type {\n",
       "        vertical-align: middle;\n",
       "    }\n",
       "\n",
       "    .dataframe tbody tr th {\n",
       "        vertical-align: top;\n",
       "    }\n",
       "\n",
       "    .dataframe thead th {\n",
       "        text-align: right;\n",
       "    }\n",
       "</style>\n",
       "<table border=\"1\" class=\"dataframe\">\n",
       "  <thead>\n",
       "    <tr style=\"text-align: right;\">\n",
       "      <th></th>\n",
       "      <th>movie</th>\n",
       "      <th>production_budget</th>\n",
       "      <th>domestic_gross</th>\n",
       "      <th>worldwide_gross</th>\n",
       "      <th>original_language</th>\n",
       "      <th>original_title</th>\n",
       "      <th>popularity</th>\n",
       "      <th>release_date</th>\n",
       "      <th>vote_average</th>\n",
       "      <th>vote_count</th>\n",
       "    </tr>\n",
       "  </thead>\n",
       "  <tbody>\n",
       "    <tr>\n",
       "      <th>0</th>\n",
       "      <td>Avatar</td>\n",
       "      <td>425000000</td>\n",
       "      <td>760507625</td>\n",
       "      <td>2776345279</td>\n",
       "      <td>en</td>\n",
       "      <td>Avatar</td>\n",
       "      <td>26.526</td>\n",
       "      <td>2009-12-18</td>\n",
       "      <td>7.4</td>\n",
       "      <td>18676</td>\n",
       "    </tr>\n",
       "    <tr>\n",
       "      <th>1</th>\n",
       "      <td>Pirates of the Caribbean: On Stranger Tides</td>\n",
       "      <td>410600000</td>\n",
       "      <td>241063875</td>\n",
       "      <td>1045663875</td>\n",
       "      <td>en</td>\n",
       "      <td>Pirates of the Caribbean: On Stranger Tides</td>\n",
       "      <td>30.579</td>\n",
       "      <td>2011-05-20</td>\n",
       "      <td>6.4</td>\n",
       "      <td>8571</td>\n",
       "    </tr>\n",
       "    <tr>\n",
       "      <th>2</th>\n",
       "      <td>Avengers: Age of Ultron</td>\n",
       "      <td>330600000</td>\n",
       "      <td>459005868</td>\n",
       "      <td>1403013963</td>\n",
       "      <td>en</td>\n",
       "      <td>Avengers: Age of Ultron</td>\n",
       "      <td>44.383</td>\n",
       "      <td>2015-05-01</td>\n",
       "      <td>7.3</td>\n",
       "      <td>13457</td>\n",
       "    </tr>\n",
       "    <tr>\n",
       "      <th>3</th>\n",
       "      <td>Avengers: Infinity War</td>\n",
       "      <td>300000000</td>\n",
       "      <td>678815482</td>\n",
       "      <td>2048134200</td>\n",
       "      <td>en</td>\n",
       "      <td>Avengers: Infinity War</td>\n",
       "      <td>80.773</td>\n",
       "      <td>2018-04-27</td>\n",
       "      <td>8.3</td>\n",
       "      <td>13948</td>\n",
       "    </tr>\n",
       "    <tr>\n",
       "      <th>4</th>\n",
       "      <td>Justice League</td>\n",
       "      <td>300000000</td>\n",
       "      <td>229024295</td>\n",
       "      <td>655945209</td>\n",
       "      <td>en</td>\n",
       "      <td>Justice League</td>\n",
       "      <td>34.953</td>\n",
       "      <td>2017-11-17</td>\n",
       "      <td>6.2</td>\n",
       "      <td>7510</td>\n",
       "    </tr>\n",
       "  </tbody>\n",
       "</table>\n",
       "</div>"
      ],
      "text/plain": [
       "                                         movie  production_budget  \\\n",
       "0                                       Avatar          425000000   \n",
       "1  Pirates of the Caribbean: On Stranger Tides          410600000   \n",
       "2                      Avengers: Age of Ultron          330600000   \n",
       "3                       Avengers: Infinity War          300000000   \n",
       "4                               Justice League          300000000   \n",
       "\n",
       "   domestic_gross  worldwide_gross original_language  \\\n",
       "0       760507625       2776345279                en   \n",
       "1       241063875       1045663875                en   \n",
       "2       459005868       1403013963                en   \n",
       "3       678815482       2048134200                en   \n",
       "4       229024295        655945209                en   \n",
       "\n",
       "                                original_title  popularity release_date  \\\n",
       "0                                       Avatar      26.526   2009-12-18   \n",
       "1  Pirates of the Caribbean: On Stranger Tides      30.579   2011-05-20   \n",
       "2                      Avengers: Age of Ultron      44.383   2015-05-01   \n",
       "3                       Avengers: Infinity War      80.773   2018-04-27   \n",
       "4                               Justice League      34.953   2017-11-17   \n",
       "\n",
       "   vote_average  vote_count  \n",
       "0           7.4       18676  \n",
       "1           6.4        8571  \n",
       "2           7.3       13457  \n",
       "3           8.3       13948  \n",
       "4           6.2        7510  "
      ]
     },
     "execution_count": 132,
     "metadata": {},
     "output_type": "execute_result"
    }
   ],
   "source": [
    "print(tmdb_movies_performance_df.info())\n",
    "tmdb_movies_performance_df.head()"
   ]
  },
  {
   "cell_type": "code",
   "execution_count": 133,
   "metadata": {},
   "outputs": [
    {
     "data": {
      "text/plain": [
       "174"
      ]
     },
     "execution_count": 133,
     "metadata": {},
     "output_type": "execute_result"
    }
   ],
   "source": [
    "tmdb_movies_performance_df.duplicated().sum()"
   ]
  },
  {
   "cell_type": "code",
   "execution_count": 134,
   "metadata": {},
   "outputs": [],
   "source": [
    "tmdb_movies_performance_df.drop_duplicates(inplace = True)\n"
   ]
  },
  {
   "cell_type": "code",
   "execution_count": 135,
   "metadata": {},
   "outputs": [
    {
     "data": {
      "text/plain": [
       "0"
      ]
     },
     "execution_count": 135,
     "metadata": {},
     "output_type": "execute_result"
    }
   ],
   "source": [
    "tmdb_movies_performance_df.duplicated().sum()"
   ]
  },
  {
   "cell_type": "markdown",
   "metadata": {},
   "source": [
    "Now we should be working with two clean main dataframes - movie_basics_personnel_ratings_df and tmdb_movies_performance_df, let us see if we can find additional relationships between the data in these dataframes"
   ]
  },
  {
   "cell_type": "markdown",
   "metadata": {},
   "source": [
    "#### Step 2: Let us do some analysis on our dataframes"
   ]
  },
  {
   "cell_type": "code",
   "execution_count": 136,
   "metadata": {},
   "outputs": [
    {
     "name": "stdout",
     "output_type": "stream",
     "text": [
      "Summary statistics for tmdb_movies_performance_df:\n",
      "       production_budget  domestic_gross  worldwide_gross    popularity  \\\n",
      "count           0.002211        0.002211         0.002211  2.211000e-03   \n",
      "mean           37.432250       48.811377       118.194227  1.022043e-05   \n",
      "std            51.066383       82.292046       221.459257  8.277149e-06   \n",
      "min             0.009000        0.000000         0.000000  6.000000e-07   \n",
      "25%             5.000000        0.669688         2.750329  4.185500e-06   \n",
      "50%            18.000000       20.157300        36.374700  9.095000e-06   \n",
      "75%            45.000000       57.128662       118.893989  1.393550e-05   \n",
      "max           425.000000      760.507625      2776.345279  8.077300e-05   \n",
      "\n",
      "       vote_average  vote_count  \n",
      "count      0.002211    0.002211  \n",
      "mean       0.000006    0.001583  \n",
      "std        0.000001    0.002628  \n",
      "min        0.000000    0.000001  \n",
      "25%        0.000006    0.000040  \n",
      "50%        0.000006    0.000509  \n",
      "75%        0.000007    0.001910  \n",
      "max        0.000010    0.022186  \n",
      "Distribution of original_language in tmdb_movies_performance_df:\n",
      "en    2087\n",
      "fr      24\n",
      "ru      16\n",
      "es      16\n",
      "zh      11\n",
      "hi      10\n",
      "de       8\n",
      "sv       4\n",
      "ja       3\n",
      "ko       3\n",
      "Name: original_language, dtype: int64\n",
      "Distribution of release_year in tmdb_movies_performance_df:\n",
      "2014    280\n",
      "2011    274\n",
      "2015    273\n",
      "2013    262\n",
      "2010    250\n",
      "2016    242\n",
      "2012    225\n",
      "2017    182\n",
      "2018    161\n",
      "1995      5\n",
      "Name: release_year, dtype: int64\n"
     ]
    }
   ],
   "source": [
    "# Summary statistics for tmdb_movies_performance_df\n",
    "print(\"Summary statistics for tmdb_movies_performance_df:\")\n",
    "print(tmdb_movies_performance_df.describe()/1000000)\n",
    "\n",
    "# Distribution of categorical columns in tmdb_movies_performance_df\n",
    "print(\"Distribution of original_language in tmdb_movies_performance_df:\")\n",
    "print(tmdb_movies_performance_df['original_language'].value_counts().head(10))\n",
    "\n",
    "print(\"Distribution of release_year in tmdb_movies_performance_df:\")\n",
    "tmdb_movies_performance_df['release_year'] = tmdb_movies_performance_df['release_date'].dt.year\n",
    "print(tmdb_movies_performance_df['release_year'].value_counts().head(10))\n"
   ]
  },
  {
   "cell_type": "markdown",
   "metadata": {},
   "source": [
    "Let's visualize this summarized statistics"
   ]
  },
  {
   "cell_type": "code",
   "execution_count": 137,
   "metadata": {},
   "outputs": [
    {
     "data": {
      "image/png": "[encoded data removed]",
      "text/plain": [
       "<Figure size 720x432 with 1 Axes>"
      ]
     },
     "metadata": {
      "needs_background": "light"
     },
     "output_type": "display_data"
    }
   ],
   "source": [
    "#bar plots showing movie distribution movie distribution by language\n",
    "language = tmdb_movies_performance_df['original_language'].value_counts().head(5)\n",
    "\n",
    "\n",
    "plt.figure(figsize=(10,6))\n",
    "plt.bar(language.index, language.values, color = 'blue', alpha = 0.8)\n",
    "plt.xlabel('Language')\n",
    "plt.ylabel('Frequency')\n",
    "plt.title('Language Popularity')\n",
    "plt.show()\n",
    "\n"
   ]
  },
  {
   "cell_type": "markdown",
   "metadata": {},
   "source": [
    "Looks like English is the most popular language for movies to be made in"
   ]
  },
  {
   "cell_type": "code",
   "execution_count": 138,
   "metadata": {},
   "outputs": [
    {
     "data": {
      "image/png": "[encoded data removed]",
      "text/plain": [
       "<Figure size 1080x432 with 1 Axes>"
      ]
     },
     "metadata": {
      "needs_background": "light"
     },
     "output_type": "display_data"
    }
   ],
   "source": [
    "#histogram showing movie distribution by year \n",
    "release_year = tmdb_movies_performance_df[tmdb_movies_performance_df['release_year'] > 1998]['release_year']\n",
    "\n",
    "\n",
    "plt.figure(figsize=(15,6))\n",
    "plt.hist(release_year, bins = 10, color = 'blue', alpha = 0.8)\n",
    "min_year = release_year.min()\n",
    "max_year = release_year.max()\n",
    "plt.xticks(np.arange(min_year, max_year + 2, step=1))\n",
    "\n",
    "plt.xlabel('Year')\n",
    "plt.ylabel('Frequency')\n",
    "plt.title('Distribution of Movies by Year')\n",
    "plt.grid(axis='y', alpha=0.5)\n",
    "plt.show()\n"
   ]
  },
  {
   "cell_type": "markdown",
   "metadata": {},
   "source": [
    "Looks like movie making picked up after 2009 and peaked in 2016. We can check why movie production in subsequent years.\n",
    "\n",
    "Next let's review production budgets."
   ]
  },
  {
   "cell_type": "code",
   "execution_count": 139,
   "metadata": {},
   "outputs": [
    {
     "data": {
      "image/png": "[encoded data removed]",
      "text/plain": [
       "<Figure size 1080x432 with 1 Axes>"
      ]
     },
     "metadata": {
      "needs_background": "light"
     },
     "output_type": "display_data"
    }
   ],
   "source": [
    "#histogram showing a distribution of production budgets\n",
    "production_budget = tmdb_movies_performance_df[tmdb_movies_performance_df['production_budget'] > 0]['production_budget']/1000000\n",
    "\n",
    "\n",
    "plt.figure(figsize=(15,6))\n",
    "plt.hist(production_budget, bins = 10, color = 'blue', alpha = 0.8)\n",
    "plt.xticks(np.arange(0, 500, step=20))\n",
    "\n",
    "plt.xlabel('Production Budget')\n",
    "plt.ylabel('Frequency')\n",
    "plt.title('Distribution of Production Costs in Millions')\n",
    "plt.grid(axis='y', alpha=0.5)\n",
    "plt.show()\n"
   ]
  },
  {
   "cell_type": "markdown",
   "metadata": {},
   "source": [
    "This histogram, combined with the summary statistics, confirms that most movies cost about 19 million to make with movies costing 45 million being on the 75th percentile. Let's see how this changes for movies with higher ratings i.e., above average"
   ]
  },
  {
   "cell_type": "code",
   "execution_count": 140,
   "metadata": {},
   "outputs": [
    {
     "data": {
      "image/png": "[encoded data removed]",
      "text/plain": [
       "<Figure size 1080x432 with 1 Axes>"
      ]
     },
     "metadata": {
      "needs_background": "light"
     },
     "output_type": "display_data"
    },
    {
     "name": "stdout",
     "output_type": "stream",
     "text": [
      "114\n",
      "2211\n"
     ]
    }
   ],
   "source": [
    "#histogram showing a distribution of production budgets\n",
    "highest_rated = tmdb_movies_performance_df['vote_average'].quantile(0.95)\n",
    "\n",
    "production_budget_above_average = tmdb_movies_performance_df[tmdb_movies_performance_df['vote_average'] >=\n",
    "highest_rated ]['production_budget'] / 1000000\n",
    "\n",
    "plt.figure(figsize=(15,6))\n",
    "plt.hist(production_budget_above_average, bins = 10, color = 'blue', alpha = 0.8)\n",
    "plt.xticks(np.arange(0, 500, step=25))\n",
    "\n",
    "plt.xlabel('Production Budget')\n",
    "plt.ylabel('Frequency')\n",
    "plt.title('Distribution of Production Costs in Millions for Top 5% Highest Rated Movies')\n",
    "plt.grid(axis='y', alpha=0.5)\n",
    "plt.show()\n",
    "\n",
    "print(production_budget_above_average.count())\n",
    "print(production_budget.count())\n"
   ]
  },
  {
   "cell_type": "code",
   "execution_count": 141,
   "metadata": {},
   "outputs": [
    {
     "data": {
      "image/png": "[encoded data removed]",
      "text/plain": [
       "<Figure size 1080x432 with 1 Axes>"
      ]
     },
     "metadata": {
      "needs_background": "light"
     },
     "output_type": "display_data"
    },
    {
     "name": "stdout",
     "output_type": "stream",
     "text": [
      "111\n",
      "2211\n"
     ]
    }
   ],
   "source": [
    "#histogram showing a distribution of production budgets\n",
    "lowest_rated = tmdb_movies_performance_df['vote_average'].quantile(0.05)\n",
    "\n",
    "production_budget_above_average = tmdb_movies_performance_df[tmdb_movies_performance_df['vote_average'] <=\n",
    "lowest_rated ]['production_budget'] / 1000000\n",
    "\n",
    "plt.figure(figsize=(15,6))\n",
    "plt.hist(production_budget_above_average, bins = 10, color = 'blue', alpha = 0.8)\n",
    "plt.xticks(np.arange(0, 500, step=25))\n",
    "\n",
    "plt.xlabel('Production Budget')\n",
    "plt.ylabel('Frequency')\n",
    "plt.title('Distribution of Production Costs in Millions for Top 5% Lowest Rated Movies')\n",
    "plt.grid(axis='y', alpha=0.5)\n",
    "plt.show()\n",
    "\n",
    "print(production_budget_above_average.count())\n",
    "print(production_budget.count())\n"
   ]
  },
  {
   "cell_type": "code",
   "execution_count": 142,
   "metadata": {},
   "outputs": [
    {
     "data": {
      "text/html": [
       "<div>\n",
       "<style scoped>\n",
       "    .dataframe tbody tr th:only-of-type {\n",
       "        vertical-align: middle;\n",
       "    }\n",
       "\n",
       "    .dataframe tbody tr th {\n",
       "        vertical-align: top;\n",
       "    }\n",
       "\n",
       "    .dataframe thead th {\n",
       "        text-align: right;\n",
       "    }\n",
       "</style>\n",
       "<table border=\"1\" class=\"dataframe\">\n",
       "  <thead>\n",
       "    <tr style=\"text-align: right;\">\n",
       "      <th></th>\n",
       "      <th>production_budget</th>\n",
       "      <th>domestic_gross</th>\n",
       "      <th>worldwide_gross</th>\n",
       "      <th>popularity</th>\n",
       "      <th>vote_average</th>\n",
       "      <th>vote_count</th>\n",
       "      <th>release_year</th>\n",
       "    </tr>\n",
       "  </thead>\n",
       "  <tbody>\n",
       "    <tr>\n",
       "      <th>production_budget</th>\n",
       "      <td>1.000000</td>\n",
       "      <td>0.720301</td>\n",
       "      <td>0.794036</td>\n",
       "      <td>0.548022</td>\n",
       "      <td>0.125232</td>\n",
       "      <td>0.607790</td>\n",
       "      <td>0.029673</td>\n",
       "    </tr>\n",
       "    <tr>\n",
       "      <th>domestic_gross</th>\n",
       "      <td>0.720301</td>\n",
       "      <td>1.000000</td>\n",
       "      <td>0.945599</td>\n",
       "      <td>0.530075</td>\n",
       "      <td>0.194530</td>\n",
       "      <td>0.700755</td>\n",
       "      <td>-0.010415</td>\n",
       "    </tr>\n",
       "    <tr>\n",
       "      <th>worldwide_gross</th>\n",
       "      <td>0.794036</td>\n",
       "      <td>0.945599</td>\n",
       "      <td>1.000000</td>\n",
       "      <td>0.555343</td>\n",
       "      <td>0.183899</td>\n",
       "      <td>0.717538</td>\n",
       "      <td>0.013855</td>\n",
       "    </tr>\n",
       "    <tr>\n",
       "      <th>popularity</th>\n",
       "      <td>0.548022</td>\n",
       "      <td>0.530075</td>\n",
       "      <td>0.555343</td>\n",
       "      <td>1.000000</td>\n",
       "      <td>0.286706</td>\n",
       "      <td>0.731124</td>\n",
       "      <td>0.065156</td>\n",
       "    </tr>\n",
       "    <tr>\n",
       "      <th>vote_average</th>\n",
       "      <td>0.125232</td>\n",
       "      <td>0.194530</td>\n",
       "      <td>0.183899</td>\n",
       "      <td>0.286706</td>\n",
       "      <td>1.000000</td>\n",
       "      <td>0.316742</td>\n",
       "      <td>-0.052756</td>\n",
       "    </tr>\n",
       "    <tr>\n",
       "      <th>vote_count</th>\n",
       "      <td>0.607790</td>\n",
       "      <td>0.700755</td>\n",
       "      <td>0.717538</td>\n",
       "      <td>0.731124</td>\n",
       "      <td>0.316742</td>\n",
       "      <td>1.000000</td>\n",
       "      <td>0.009042</td>\n",
       "    </tr>\n",
       "    <tr>\n",
       "      <th>release_year</th>\n",
       "      <td>0.029673</td>\n",
       "      <td>-0.010415</td>\n",
       "      <td>0.013855</td>\n",
       "      <td>0.065156</td>\n",
       "      <td>-0.052756</td>\n",
       "      <td>0.009042</td>\n",
       "      <td>1.000000</td>\n",
       "    </tr>\n",
       "  </tbody>\n",
       "</table>\n",
       "</div>"
      ],
      "text/plain": [
       "                   production_budget  domestic_gross  worldwide_gross  \\\n",
       "production_budget           1.000000        0.720301         0.794036   \n",
       "domestic_gross              0.720301        1.000000         0.945599   \n",
       "worldwide_gross             0.794036        0.945599         1.000000   \n",
       "popularity                  0.548022        0.530075         0.555343   \n",
       "vote_average                0.125232        0.194530         0.183899   \n",
       "vote_count                  0.607790        0.700755         0.717538   \n",
       "release_year                0.029673       -0.010415         0.013855   \n",
       "\n",
       "                   popularity  vote_average  vote_count  release_year  \n",
       "production_budget    0.548022      0.125232    0.607790      0.029673  \n",
       "domestic_gross       0.530075      0.194530    0.700755     -0.010415  \n",
       "worldwide_gross      0.555343      0.183899    0.717538      0.013855  \n",
       "popularity           1.000000      0.286706    0.731124      0.065156  \n",
       "vote_average         0.286706      1.000000    0.316742     -0.052756  \n",
       "vote_count           0.731124      0.316742    1.000000      0.009042  \n",
       "release_year         0.065156     -0.052756    0.009042      1.000000  "
      ]
     },
     "execution_count": 142,
     "metadata": {},
     "output_type": "execute_result"
    }
   ],
   "source": [
    "tmdb_movies_performance_df.corr()"
   ]
  },
  {
   "cell_type": "markdown",
   "metadata": {},
   "source": [
    "Comparing the distribution of the budget for the top 5 and lowest 5 rated movies, a higher production budget does not necessarily result into a higher rated movie and vice versa i.e. budget does not seem to be an important factor for a movies ratings. \n",
    "\n",
    "Correlation analysis confirms that there is a positive weak correlation between production budget and vote average.\n",
    "The correlation analysis between popularity and vote average is also positive but weak, this signals that popular movies that are rated do not necessarily receive have higher ratings.\n",
    "\n",
    "Also, popular movies tend to receive more ratings and vice versa from the strong positive correlation.\n",
    "\n",
    "Should Microsoft make popular movies or higher rated movies?\n",
    "Next we will compare the profits i.e. worldwide_gross - production budget  to the production budget, vote_average and popularity."
   ]
  },
  {
   "cell_type": "code",
   "execution_count": 143,
   "metadata": {},
   "outputs": [
    {
     "data": {
      "image/png": "[encoded data removed]",
      "text/plain": [
       "<Figure size 1080x432 with 1 Axes>"
      ]
     },
     "metadata": {
      "needs_background": "light"
     },
     "output_type": "display_data"
    },
    {
     "name": "stdout",
     "output_type": "stream",
     "text": [
      "2211\n",
      "2211\n",
      "most profitable 439.382419\n",
      "least profitable -17.93498\n",
      "highest production budget 151.0\n",
      "lowest production budget 0.5\n"
     ]
    }
   ],
   "source": [
    "#scatterplot showing a distribution of movie profit and production budgets\n",
    "profit = (tmdb_movies_performance_df['worldwide_gross']-tmdb_movies_performance_df['production_budget'])/1000000\n",
    "most_profitable = profit.quantile(0.95)\n",
    "least_profitable = profit.quantile(0.05)\n",
    "\n",
    "production_budget = tmdb_movies_performance_df['production_budget']/1000000\n",
    "highest_production_budget = production_budget.quantile(0.95)\n",
    "lowest_production_budget = production_budget.quantile(0.05)\n",
    "\n",
    "\n",
    "plt.figure(figsize=(15,6))\n",
    "plt.scatter(production_budget, profit, c = profit, cmap = 'viridis')\n",
    "plt.axhline(most_profitable, color='green', linestyle='dashed', \n",
    "    linewidth=1, label=f'95th Percentile Profit ({most_profitable:.2f} million)')\n",
    "plt.axhline(least_profitable, color='red', linestyle='dashed', linewidth=1, \n",
    "    label=f'5th Percentile Profit ({least_profitable:.2f} million)')\n",
    "plt.axvline(highest_production_budget, color='yellow', linestyle='dashed', \n",
    "    linewidth=1, label=f'95th Percentile Production Budget ({highest_production_budget:.2f} million)')\n",
    "plt.axvline(lowest_production_budget, color='blue', linestyle='dashed', \n",
    "    linewidth=1, label=f'5th Percentile Production Budget ({lowest_production_budget:.2f} million)')\n",
    "\n",
    "plt.xticks(np.arange(0, 500, step=25))\n",
    "\n",
    "plt.xlabel('Production Budget in Millions')\n",
    "plt.ylabel('Profit in Millions')\n",
    "plt.title('Production Budget vs Profit')\n",
    "plt.grid(axis='both', alpha=0.5)\n",
    "plt.show()\n",
    "\n",
    "print(profit.count())\n",
    "print(production_budget.count())\n",
    "print('most profitable', most_profitable)\n",
    "print('least profitable', least_profitable)\n",
    "print('highest production budget', highest_production_budget)\n",
    "print('lowest production budget', lowest_production_budget)\n"
   ]
  },
  {
   "cell_type": "markdown",
   "metadata": {},
   "source": [
    "So from our scatter plot, the top 5% of most profitable movies have a production budget of about 151 million and the top 5% of movies make a profit of at least 439 million.\n",
    "\n",
    "The most profitable movie on our dataset also had the highest production budget\n",
    "\n",
    "While there are fewer movies making profits of more than 439 million relative to the whole dataset, a high production budget is good but not necessary to make a profit based on the top left quadrant of our scatter plot.\n",
    "\n",
    "Next, let's see how popularity compares with profits."
   ]
  },
  {
   "cell_type": "code",
   "execution_count": 144,
   "metadata": {},
   "outputs": [
    {
     "data": {
      "image/png": "[encoded data removed]",
      "text/plain": [
       "<Figure size 1080x432 with 1 Axes>"
      ]
     },
     "metadata": {
      "needs_background": "light"
     },
     "output_type": "display_data"
    },
    {
     "name": "stdout",
     "output_type": "stream",
     "text": [
      "2211\n",
      "2211\n",
      "most profitable 439.382419\n",
      "least profitable -17.93498\n",
      "Most Popular 25.794\n",
      "Leat Popular 0.6\n"
     ]
    }
   ],
   "source": [
    "#scatterplot showing a distribution of movie profit and production budgets\n",
    "profit = (tmdb_movies_performance_df['worldwide_gross']-tmdb_movies_performance_df['production_budget'])/1000000\n",
    "most_profitable = profit.quantile(0.95)\n",
    "least_profitable = profit.quantile(0.05)\n",
    "\n",
    "popularity = tmdb_movies_performance_df['popularity']\n",
    "most_popular = popularity.quantile(0.95)\n",
    "least_popular = popularity.quantile(0.05)\n",
    "\n",
    "\n",
    "plt.figure(figsize=(15,6))\n",
    "plt.scatter(popularity, profit, c = profit, cmap = 'viridis')\n",
    "plt.axhline(most_profitable, color='green', linestyle='dashed', \n",
    "    linewidth=1, label=f'95th Percentile Profit ({most_profitable:.2f} million)')\n",
    "plt.axhline(least_profitable, color='red', linestyle='dashed', \n",
    "    linewidth=1, label=f'5th Percentile Profit ({least_profitable:.2f} million)')\n",
    "plt.axvline(most_popular, color='yellow', linestyle='dashed', \n",
    "    linewidth=1, label=f'95th Percentile Popularity ({most_popular:.2f} million)')\n",
    "plt.axvline(least_popular, color='blue', linestyle='dashed', \n",
    "    linewidth=1, label=f'5th Percentile Popularity ({least_popular:.2f} million)')\n",
    "\n",
    "plt.xticks(np.arange(0, 100, step=10))\n",
    "\n",
    "plt.xlabel('Movie Popularity')\n",
    "plt.ylabel('Profit in Millions')\n",
    "plt.title('Movie Popularity vs Profit')\n",
    "plt.grid(axis='both', alpha=0.5)\n",
    "plt.show()\n",
    "\n",
    "print(profit.count())\n",
    "print(production_budget.count())\n",
    "print('most profitable', most_profitable)\n",
    "print('least profitable', least_profitable)\n",
    "print('Most Popular', most_popular)\n",
    "print('Leat Popular', least_popular)\n"
   ]
  },
  {
   "cell_type": "markdown",
   "metadata": {},
   "source": [
    "From this scatter plot, the more popular a movie is, the more likely it's going to be profitable. However, movies that are not popular can also be profitable - infact, the most profitable movie was not the most popular.\n",
    "\n",
    "Let's repeat this with ratings instead of popularity."
   ]
  },
  {
   "cell_type": "code",
   "execution_count": 145,
   "metadata": {},
   "outputs": [
    {
     "data": {
      "image/png": "[encoded data removed]",
      "text/plain": [
       "<Figure size 1080x432 with 1 Axes>"
      ]
     },
     "metadata": {
      "needs_background": "light"
     },
     "output_type": "display_data"
    },
    {
     "name": "stdout",
     "output_type": "stream",
     "text": [
      "2211\n",
      "2211\n",
      "most profitable 439.382419\n",
      "least profitable -17.93498\n",
      "Highly Rated 7.9\n",
      "Lowly Rated 4.15\n"
     ]
    }
   ],
   "source": [
    "#scatterplot showing a distribution of movie profit and production budgets\n",
    "profit = (tmdb_movies_performance_df['worldwide_gross']-tmdb_movies_performance_df['production_budget'])/1000000\n",
    "most_profitable = profit.quantile(0.95)\n",
    "least_profitable = profit.quantile(0.05)\n",
    "\n",
    "rating = tmdb_movies_performance_df['vote_average']\n",
    "\n",
    "plt.figure(figsize=(15,6))\n",
    "plt.scatter(rating, profit, c = profit, cmap = 'viridis')\n",
    "plt.axhline(most_profitable, color='green', linestyle='dashed', \n",
    "    linewidth=1, label=f'95th Percentile Profit ({most_profitable:.2f} million)')\n",
    "plt.axhline(least_profitable, color='red', linestyle='dashed', \n",
    "    linewidth=1, label=f'5th Percentile Profit ({least_profitable:.2f} million)')\n",
    "plt.axvline(highest_rated, color='yellow', linestyle='dashed', \n",
    "    linewidth=1, label=f'95th Percentile Rating ({highest_rated:.2f} million)')\n",
    "plt.axvline(lowest_rated, color='blue', linestyle='dashed', \n",
    "    linewidth=1, label=f'5th Percentile Rating ({lowest_rated:.2f} million)')\n",
    "\n",
    "plt.xticks(np.arange(0, 10, step=1))\n",
    "\n",
    "plt.xlabel('Movie Rating')\n",
    "plt.ylabel('Profit in Millions')\n",
    "plt.title('Movie Rating vs Profit')\n",
    "plt.grid(axis='both', alpha=0.5)\n",
    "plt.show()\n",
    "\n",
    "print(profit.count())\n",
    "print(production_budget.count())\n",
    "print('most profitable', most_profitable)\n",
    "print('least profitable', least_profitable)\n",
    "print('Highly Rated', highest_rated)\n",
    "print('Lowly Rated', lowest_rated)\n"
   ]
  },
  {
   "cell_type": "markdown",
   "metadata": {},
   "source": [
    "So a the top right quadrant is where we would like any movies we maket to be i.e. a rating above 7.9 and profits of more than 439 million dollars. A low rating almost guarantees a movie will not be as profitable as the higher rated movies. Ratings do not seem that strong a predictor for a movie's profitability"
   ]
  },
  {
   "cell_type": "markdown",
   "metadata": {},
   "source": [
    "Lastly, let us look at the popularity vs the rating for the most profitable moves and the least profitable movies"
   ]
  },
  {
   "cell_type": "code",
   "execution_count": 149,
   "metadata": {},
   "outputs": [
    {
     "data": {
      "image/png": "[encoded data removed]",
      "text/plain": [
       "<Figure size 1080x432 with 2 Axes>"
      ]
     },
     "metadata": {
      "needs_background": "light"
     },
     "output_type": "display_data"
    },
    {
     "name": "stdout",
     "output_type": "stream",
     "text": [
      "2211\n",
      "2211\n",
      "most popular 25.794\n",
      "least popular 0.6\n",
      "Highly Rated 7.9\n",
      "Lowly Rated 4.15\n"
     ]
    }
   ],
   "source": [
    "#scatterplot showing a distribution of movie profit and production budgets\n",
    "\n",
    "plt.figure(figsize=(15,6))\n",
    "sc = plt.scatter(rating, popularity, c = profit, cmap = 'viridis')\n",
    "\n",
    "cbar = plt.colorbar(sc)\n",
    "cbar.set_label('Profit')\n",
    "\n",
    "\n",
    "\n",
    "plt.xlabel('Movie Popularity')\n",
    "plt.ylabel('Movie Rating')\n",
    "plt.title('Movie Rating vs Popularity')\n",
    "plt.grid(axis='both', alpha=0.5)\n",
    "plt.show()\n",
    "\n",
    "print(profit.count())\n",
    "print(production_budget.count())\n",
    "print('most popular', most_popular)\n",
    "print('least popular', least_popular)\n",
    "print('Highly Rated', highest_rated)\n",
    "print('Lowly Rated', lowest_rated)\n"
   ]
  },
  {
   "cell_type": "markdown",
   "metadata": {},
   "source": [
    "From this scatter plot, popularity is a strong predictor of profitability whereas rating is not as strong. Alsom outliers exist where movies can be popular or highly rated but not as profitable"
   ]
  },
  {
   "cell_type": "markdown",
   "metadata": {},
   "source": []
  },
  {
   "cell_type": "code",
   "execution_count": null,
   "metadata": {},
   "outputs": [
    {
     "name": "stdout",
     "output_type": "stream",
     "text": [
      "\n",
      "Summary statistics for movie_basics_personnel_ratings_df:\n",
      "         start_year  runtime_minutes  averagerating      numvotes\n",
      "count  85138.000000     85138.000000   85138.000000  8.513800e+04\n",
      "mean    2014.269562        95.056743       6.337696  3.405209e+03\n",
      "std        2.604134       268.447772       1.474571  2.960235e+04\n",
      "min     2010.000000         3.000000       1.000000  5.000000e+00\n",
      "25%     2012.000000        82.000000       5.500000  1.400000e+01\n",
      "50%     2014.000000        91.000000       6.500000  4.800000e+01\n",
      "75%     2016.000000       101.000000       7.400000  2.690000e+02\n",
      "max     2019.000000     51420.000000      10.000000  1.841066e+06\n",
      "\n",
      "Distribution of genres in movie_basics_personnel_ratings_df:\n",
      "Drama                   13051\n",
      "Documentary             12470\n",
      "Comedy                   6218\n",
      "Horror                   3810\n",
      "Comedy,Drama             2970\n",
      "Thriller                 1662\n",
      "Drama,Romance            1641\n",
      "Comedy,Drama,Romance     1392\n",
      "Comedy,Romance           1337\n",
      "Horror,Thriller          1137\n",
      "Name: genres, dtype: int64\n",
      "\n",
      "Distribution of primary_profession in movie_basics_personnel_ratings_df:\n",
      "director,writer,producer           7552\n",
      "producer,director,writer           4990\n",
      "director,writer                    3590\n",
      "director,writer,editor             3487\n",
      "director,producer,writer           3460\n",
      "director                           3102\n",
      "writer,director,producer           2538\n",
      "director,writer,actor              2191\n",
      "director,writer,cinematographer    2183\n",
      "actor,director,writer              2053\n",
      "Name: primary_profession, dtype: int64\n",
      "\n",
      "Distribution of status in movie_basics_personnel_ratings_df:\n",
      "unknown    60533\n",
      "alive      23911\n",
      "dead         694\n",
      "Name: status, dtype: int64\n"
     ]
    }
   ],
   "source": [
    "# Summary statistics for movie_basics_personnel_ratings_df\n",
    "print(\"\\nSummary statistics for movie_basics_personnel_ratings_df:\")\n",
    "print(movie_basics_personnel_ratings_df.describe())\n",
    "\n",
    "# Distribution of categorical columns in movie_basics_personnel_ratings_df\n",
    "print(\"\\nDistribution of genres in movie_basics_personnel_ratings_df:\")\n",
    "print(movie_basics_personnel_ratings_df['genres'].value_counts().head(10))  # Display top 10 genres\n",
    "\n",
    "print(\"\\nDistribution of primary_profession in movie_basics_personnel_ratings_df:\")\n",
    "print(movie_basics_personnel_ratings_df['primary_profession'].value_counts().head(10))  # Display top 10 professions\n",
    "\n",
    "print(\"\\nDistribution of status in movie_basics_personnel_ratings_df:\")\n",
    "print(movie_basics_personnel_ratings_df['status'].value_counts().head(10))\n"
   ]
  },
  {
   "cell_type": "code",
   "execution_count": 150,
   "metadata": {},
   "outputs": [
    {
     "name": "stdout",
     "output_type": "stream",
     "text": [
      "<class 'pandas.core.frame.DataFrame'>\n",
      "Int64Index: 85138 entries, 0 to 711123\n",
      "Data columns (total 10 columns):\n",
      " #   Column              Non-Null Count  Dtype  \n",
      "---  ------              --------------  -----  \n",
      " 0   primary_title       85138 non-null  object \n",
      " 1   original_title      85138 non-null  object \n",
      " 2   start_year          85138 non-null  int64  \n",
      " 3   runtime_minutes     85138 non-null  float64\n",
      " 4   genres              85138 non-null  object \n",
      " 5   averagerating       85138 non-null  float64\n",
      " 6   numvotes            85138 non-null  int64  \n",
      " 7   primary_name        85138 non-null  object \n",
      " 8   primary_profession  85138 non-null  object \n",
      " 9   status              85138 non-null  object \n",
      "dtypes: float64(2), int64(2), object(6)\n",
      "memory usage: 7.1+ MB\n",
      "None\n"
     ]
    },
    {
     "data": {
      "text/html": [
       "<div>\n",
       "<style scoped>\n",
       "    .dataframe tbody tr th:only-of-type {\n",
       "        vertical-align: middle;\n",
       "    }\n",
       "\n",
       "    .dataframe tbody tr th {\n",
       "        vertical-align: top;\n",
       "    }\n",
       "\n",
       "    .dataframe thead th {\n",
       "        text-align: right;\n",
       "    }\n",
       "</style>\n",
       "<table border=\"1\" class=\"dataframe\">\n",
       "  <thead>\n",
       "    <tr style=\"text-align: right;\">\n",
       "      <th></th>\n",
       "      <th>primary_title</th>\n",
       "      <th>original_title</th>\n",
       "      <th>start_year</th>\n",
       "      <th>runtime_minutes</th>\n",
       "      <th>genres</th>\n",
       "      <th>averagerating</th>\n",
       "      <th>numvotes</th>\n",
       "      <th>primary_name</th>\n",
       "      <th>primary_profession</th>\n",
       "      <th>status</th>\n",
       "    </tr>\n",
       "  </thead>\n",
       "  <tbody>\n",
       "    <tr>\n",
       "      <th>0</th>\n",
       "      <td>Sunghursh</td>\n",
       "      <td>Sunghursh</td>\n",
       "      <td>2013</td>\n",
       "      <td>175.0</td>\n",
       "      <td>Action,Crime,Drama</td>\n",
       "      <td>7.0</td>\n",
       "      <td>77</td>\n",
       "      <td>Harnam Singh Rawail</td>\n",
       "      <td>director,writer,producer</td>\n",
       "      <td>dead</td>\n",
       "    </tr>\n",
       "    <tr>\n",
       "      <th>4</th>\n",
       "      <td>One Day Before the Rainy Season</td>\n",
       "      <td>Ashad Ka Ek Din</td>\n",
       "      <td>2019</td>\n",
       "      <td>114.0</td>\n",
       "      <td>Biography,Drama</td>\n",
       "      <td>7.2</td>\n",
       "      <td>43</td>\n",
       "      <td>Mani Kaul</td>\n",
       "      <td>director,writer,actor</td>\n",
       "      <td>dead</td>\n",
       "    </tr>\n",
       "    <tr>\n",
       "      <th>5</th>\n",
       "      <td>The Other Side of the Wind</td>\n",
       "      <td>The Other Side of the Wind</td>\n",
       "      <td>2018</td>\n",
       "      <td>122.0</td>\n",
       "      <td>Drama</td>\n",
       "      <td>6.9</td>\n",
       "      <td>4517</td>\n",
       "      <td>Orson Welles</td>\n",
       "      <td>actor,director,writer</td>\n",
       "      <td>dead</td>\n",
       "    </tr>\n",
       "    <tr>\n",
       "      <th>15</th>\n",
       "      <td>Sabse Bada Sukh</td>\n",
       "      <td>Sabse Bada Sukh</td>\n",
       "      <td>2018</td>\n",
       "      <td>91.0</td>\n",
       "      <td>Comedy,Drama</td>\n",
       "      <td>6.1</td>\n",
       "      <td>13</td>\n",
       "      <td>Hrishikesh Mukherjee</td>\n",
       "      <td>director,editor,writer</td>\n",
       "      <td>dead</td>\n",
       "    </tr>\n",
       "    <tr>\n",
       "      <th>16</th>\n",
       "      <td>The Wandering Soap Opera</td>\n",
       "      <td>La Telenovela Errante</td>\n",
       "      <td>2017</td>\n",
       "      <td>80.0</td>\n",
       "      <td>Comedy,Drama,Fantasy</td>\n",
       "      <td>6.5</td>\n",
       "      <td>119</td>\n",
       "      <td>Valeria Sarmiento</td>\n",
       "      <td>editor,director,writer</td>\n",
       "      <td>alive</td>\n",
       "    </tr>\n",
       "  </tbody>\n",
       "</table>\n",
       "</div>"
      ],
      "text/plain": [
       "                      primary_title              original_title  start_year  \\\n",
       "0                         Sunghursh                   Sunghursh        2013   \n",
       "4   One Day Before the Rainy Season             Ashad Ka Ek Din        2019   \n",
       "5        The Other Side of the Wind  The Other Side of the Wind        2018   \n",
       "15                  Sabse Bada Sukh             Sabse Bada Sukh        2018   \n",
       "16         The Wandering Soap Opera       La Telenovela Errante        2017   \n",
       "\n",
       "    runtime_minutes                genres  averagerating  numvotes  \\\n",
       "0             175.0    Action,Crime,Drama            7.0        77   \n",
       "4             114.0       Biography,Drama            7.2        43   \n",
       "5             122.0                 Drama            6.9      4517   \n",
       "15             91.0          Comedy,Drama            6.1        13   \n",
       "16             80.0  Comedy,Drama,Fantasy            6.5       119   \n",
       "\n",
       "            primary_name        primary_profession status  \n",
       "0    Harnam Singh Rawail  director,writer,producer   dead  \n",
       "4              Mani Kaul     director,writer,actor   dead  \n",
       "5           Orson Welles     actor,director,writer   dead  \n",
       "15  Hrishikesh Mukherjee    director,editor,writer   dead  \n",
       "16     Valeria Sarmiento    editor,director,writer  alive  "
      ]
     },
     "execution_count": 150,
     "metadata": {},
     "output_type": "execute_result"
    }
   ],
   "source": [
    "print(movie_basics_personnel_ratings_df.info())\n",
    "movie_basics_personnel_ratings_df.head()"
   ]
  },
  {
   "cell_type": "code",
   "execution_count": 157,
   "metadata": {},
   "outputs": [
    {
     "name": "stdout",
     "output_type": "stream",
     "text": [
      "Top Genre Combinations:\n",
      " Drama                   13051\n",
      "Documentary             12470\n",
      "Comedy                   6218\n",
      "Horror                   3810\n",
      "Comedy,Drama             2970\n",
      "Thriller                 1662\n",
      "Drama,Romance            1641\n",
      "Comedy,Drama,Romance     1392\n",
      "Comedy,Romance           1337\n",
      "Horror,Thriller          1137\n",
      "Name: genres, dtype: int64\n"
     ]
    }
   ],
   "source": [
    "# Split genres\n",
    "genre_combinations = movie_basics_personnel_ratings_df['genres'].str.split(',').apply(lambda x: ','.join(sorted(x)))\n",
    "top_genre_combinations = genre_combinations.value_counts().head(10)\n",
    "print(\"Top Genre Combinations:\\n\", top_genre_combinations)"
   ]
  },
  {
   "cell_type": "code",
   "execution_count": 167,
   "metadata": {},
   "outputs": [
    {
     "name": "stdout",
     "output_type": "stream",
     "text": [
      "Average Rating by Genre Combination:\n",
      " genres\n",
      "Action                        1.1\n",
      "Action,Adult,Comedy           3.4\n",
      "Action,Adventure              2.1\n",
      "Action,Adventure,Animation    1.8\n",
      "Action,Adventure,Biography    4.6\n",
      "                             ... \n",
      "Thriller                      1.0\n",
      "Thriller,War                  3.2\n",
      "Thriller,Western              6.2\n",
      "War                           1.8\n",
      "Western                       1.1\n",
      "Name: averagerating, Length: 920, dtype: float64\n"
     ]
    }
   ],
   "source": [
    "genre_combo_ratings = movie_basics_personnel_ratings_df.groupby('genres')['averagerating']\n",
    "print(\"Average Rating by Genre Combination:\\n\", genre_combo_ratings.min())"
   ]
  },
  {
   "cell_type": "code",
   "execution_count": 170,
   "metadata": {},
   "outputs": [
    {
     "name": "stdout",
     "output_type": "stream",
     "text": [
      "\n",
      "Top 3 genres:\n",
      " 7     Documentary\n",
      "17           News\n",
      "4       Biography\n",
      "14          Music\n",
      "12        History\n",
      "22          Sport\n",
      "24            War\n",
      "15        Musical\n",
      "8           Drama\n",
      "9          Family\n",
      "Name: genres, dtype: object\n"
     ]
    }
   ],
   "source": [
    "# Calculate average rating for each individual genre and filter out genres with less than 20 movies\n",
    "individual_genre_ratings = movie_basics_personnel_ratings_df.assign(\n",
    "    genres=movie_basics_personnel_ratings_df['genres'].str.split(',')).explode('genres').groupby(\n",
    "        'genres')['averagerating'].agg(['mean', 'count']).reset_index().rename(\n",
    "            columns={'mean': 'average_rating', 'count': 'num_movies'}).query(\n",
    "                'num_movies >= 20').sort_values('average_rating', ascending=False)\n",
    "\n",
    "top_genres = individual_genre_ratings['genres'].head(10)\n",
    "print(\"\\nTop 3 genres:\\n\",top_genres)\n"
   ]
  },
  {
   "cell_type": "code",
   "execution_count": 171,
   "metadata": {},
   "outputs": [
    {
     "data": {
      "image/png": "[encoded data removed]",
      "text/plain": [
       "<Figure size 432x288 with 1 Axes>"
      ]
     },
     "metadata": {
      "needs_background": "light"
     },
     "output_type": "display_data"
    }
   ],
   "source": [
    "for genre in top_genres:  # Top 3 genres\n",
    "    genre_movies = movie_basics_personnel_ratings_df[movie_basics_personnel_ratings_df['genres'].str.contains(genre)]\n",
    "    plt.hist(genre_movies['averagerating'], bins=10, alpha=0.7, label=genre)\n",
    "\n",
    "plt.xlabel('Average Rating')\n",
    "plt.ylabel('Number of Movies')\n",
    "plt.title('Average Rating Distribution for Top 3 Genres')\n",
    "plt.legend()\n",
    "plt.show()"
   ]
  }
 ],
 "metadata": {
  "kernelspec": {
   "display_name": "learn-env",
   "language": "python",
   "name": "python3"
  },
  "language_info": {
   "codemirror_mode": {
    "name": "ipython",
    "version": 3
   },
   "file_extension": ".py",
   "mimetype": "text/x-python",
   "name": "python",
   "nbconvert_exporter": "python",
   "pygments_lexer": "ipython3",
   "version": "3.8.5"
  }
 },
 "nbformat": 4,
 "nbformat_minor": 2
}
